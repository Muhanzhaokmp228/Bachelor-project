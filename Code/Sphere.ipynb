{
 "cells": [
  {
   "cell_type": "code",
   "execution_count": null,
   "metadata": {},
   "outputs": [],
   "source": [
    "import numpy as np\n",
    "import matplotlib.pyplot as plt\n",
    "import math\n",
    "import spherical_stats as ss\n",
    "from watson_dst.watson_distribution import DimrothWatson\n",
    "from mpl_toolkits.mplot3d import Axes3D\n",
    "from tensorflow_probability import distributions as tfd"
   ]
  },
  {
   "cell_type": "code",
   "execution_count": null,
   "metadata": {},
   "outputs": [
    {
     "ename": "",
     "evalue": "",
     "output_type": "error",
     "traceback": [
      "\u001b[1;31mRunning cells with '/Users/yourantaojensen/opt/anaconda3/bin/python' requires the ipykernel package.\n",
      "\u001b[1;31mRun the following command to install 'ipykernel' into the Python environment. \n",
      "\u001b[1;31mCommand: 'conda install -p /Users/yourantaojensen/opt/anaconda3 ipykernel --update-deps --force-reinstall'"
     ]
    }
   ],
   "source": [
    "# Source How to generate equidistributed points on the surface of a sphere -- https://www.cmu.edu/biolphys/deserno/pdf/sphere_equi.pdf\n",
    "# Randomly generate points on a sphere\n",
    "# Radius = 1\n",
    "# Center = (0,0,0)\n",
    "\n",
    "def samples(n):\n",
    "    # Generating z coordinates with radius = 1\n",
    "    z = np.random.uniform(-1,1,n)\n",
    "\n",
    "    # Generating azimuthal angles\n",
    "    phi = np.random.uniform(0,2*math.pi,n)\n",
    "\n",
    "    # Generating x and y coordinates\n",
    "    x = np.sqrt(1-z**2)*np.cos(phi)\n",
    "    y = np.sqrt(1-z**2)*np.sin(phi)\n",
    "    samples = np.array([x,y,z]).T\n",
    "    return samples\n",
    "\n",
    "# Generating samples with n = 10, 50, 100, 500, 1000\n",
    "samples_uniform10 = samples(10)\n",
    "samples_uniform50 = samples(50)\n",
    "samples_uniform100 = samples(100)\n",
    "samples_uniform500 = samples(500)\n",
    "samples_uniform1000 = samples(1000)\n",
    "\n",
    "# Plotting the points\n",
    "\"\"\" fig1, fig2, fig3, fig4, fig5 = plt.figure(), plt.figure(), plt.figure(), plt.figure(), plt.figure()\n",
    "ax1 = fig1.add_subplot(111, projection='3d')\n",
    "ax2 = fig2.add_subplot(111, projection='3d')\n",
    "ax3 = fig3.add_subplot(111, projection='3d')\n",
    "ax4 = fig4.add_subplot(111, projection='3d')\n",
    "ax5 = fig5.add_subplot(111, projection='3d')\n",
    "ax1.scatter(samples_uniform10[:,0],samples_uniform10[:,1],samples_uniform10[:,2], c='r', marker='o')\n",
    "ax2.scatter(samples_uniform50[:,0],samples_uniform50[:,1],samples_uniform50[:,2], c='b', marker='o')\n",
    "ax3.scatter(samples_uniform100[:,0],samples_uniform100[:,1],samples_uniform100[:,2], c='g', marker='o')\n",
    "ax4.scatter(samples_uniform500[:,0],samples_uniform500[:,1],samples_uniform500[:,2], c='y', marker='o')\n",
    "ax5.scatter(samples_uniform1000[:,0],samples_uniform1000[:,1],samples_uniform1000[:,2], c='k', marker='o') \"\"\"\n",
    "\n",
    "# Plotting the points in a single figure\n",
    "fig = plt.figure()\n",
    "ax1 = fig.add_subplot(231, projection='3d')\n",
    "ax2 = fig.add_subplot(232, projection='3d')\n",
    "ax3 = fig.add_subplot(233, projection='3d')\n",
    "ax4 = fig.add_subplot(234, projection='3d')\n",
    "ax5 = fig.add_subplot(235, projection='3d')\n",
    "ax1.set_title('n = 10')\n",
    "ax1.scatter(samples_uniform10[:,0],samples_uniform10[:,1],samples_uniform10[:,2], c='r', marker='o')\n",
    "ax2.set_title('n = 50')\n",
    "ax2.scatter(samples_uniform50[:,0],samples_uniform50[:,1],samples_uniform50[:,2], c='b', marker='o')\n",
    "ax3.set_title('n = 100')\n",
    "ax3.scatter(samples_uniform100[:,0],samples_uniform100[:,1],samples_uniform100[:,2], c='g', marker='o')\n",
    "ax4.set_title('n = 500')\n",
    "ax4.scatter(samples_uniform500[:,0],samples_uniform500[:,1],samples_uniform500[:,2], c='y', marker='o')\n",
    "ax5.set_title('n = 1000')\n",
    "ax5.scatter(samples_uniform1000[:,0],samples_uniform1000[:,1],samples_uniform1000[:,2], c='k', marker='o')\n",
    "plt.show()"
   ]
  },
  {
   "cell_type": "code",
   "execution_count": null,
   "metadata": {},
   "outputs": [
    {
     "ename": "",
     "evalue": "",
     "output_type": "error",
     "traceback": [
      "\u001b[1;31mRunning cells with '/Users/yourantaojensen/opt/anaconda3/bin/python' requires the ipykernel package.\n",
      "\u001b[1;31mRun the following command to install 'ipykernel' into the Python environment. \n",
      "\u001b[1;31mCommand: 'conda install -p /Users/yourantaojensen/opt/anaconda3 ipykernel --update-deps --force-reinstall'"
     ]
    }
   ],
   "source": [
    "# Create samples using mgrid\n",
    "n = 20\n",
    "u, v = np.mgrid[0:2*np.pi:n*1j, 0:np.pi:n*1j]\n",
    "\n",
    "x_mgrid = np.cos(u)*np.sin(v)\n",
    "y_mgrid = np.sin(u)*np.sin(v)\n",
    "z_mgrid = np.cos(v)\n",
    "\n",
    "# plot the points\n",
    "fig = plt.figure()\n",
    "ax = fig.add_subplot(111, projection='3d')\n",
    "ax.scatter(x_mgrid, y_mgrid, z_mgrid, s=5, color=\"r\")\n",
    "\n",
    "plt.show()"
   ]
  },
  {
   "cell_type": "code",
   "execution_count": null,
   "metadata": {},
   "outputs": [
    {
     "ename": "",
     "evalue": "",
     "output_type": "error",
     "traceback": [
      "\u001b[1;31mRunning cells with '/Users/yourantaojensen/opt/anaconda3/bin/python' requires the ipykernel package.\n",
      "\u001b[1;31mRun the following command to install 'ipykernel' into the Python environment. \n",
      "\u001b[1;31mCommand: 'conda install -p /Users/yourantaojensen/opt/anaconda3 ipykernel --update-deps --force-reinstall'"
     ]
    }
   ],
   "source": [
    "# define parameters of von Mises-Fisher distribution\n",
    "mu = [0, 0, 1.]\n",
    "kappa = 5\n",
    "\n",
    "# create distribution\n",
    "vmf = tfd.VonMisesFisher(mu, kappa)\n",
    "\n",
    "# normalize samples to unit sphere\n",
    "samples_vmf = vmf.sample(500)\n",
    "samples_vmf = samples_vmf.numpy()\n",
    "samples_vmf = samples_vmf / np.linalg.norm(samples_vmf, axis=1, keepdims=True)\n",
    "\n",
    "# create 3D plot of samples on sphere\n",
    "fig = plt.figure()\n",
    "ax = fig.add_subplot(111, projection='3d')\n",
    "ax.scatter(samples_vmf[:,0], samples_vmf[:,1], samples_vmf[:,2], s=10)\n",
    "\n",
    "# set axis limits and labels\n",
    "ax.set_xlabel('X')\n",
    "ax.set_ylabel('Y')\n",
    "ax.set_zlabel('Z')\n",
    "\n",
    "# show plot\n",
    "plt.show()"
   ]
  },
  {
   "cell_type": "code",
   "execution_count": null,
   "metadata": {},
   "outputs": [
    {
     "ename": "",
     "evalue": "",
     "output_type": "error",
     "traceback": [
      "\u001b[1;31mRunning cells with '/Users/yourantaojensen/opt/anaconda3/bin/python' requires the ipykernel package.\n",
      "\u001b[1;31mRun the following command to install 'ipykernel' into the Python environment. \n",
      "\u001b[1;31mCommand: 'conda install -p /Users/yourantaojensen/opt/anaconda3 ipykernel --update-deps --force-reinstall'"
     ]
    }
   ],
   "source": [
    "# sample with watson distribution\n",
    "mu = [0, 0, 1.]\n",
    "kappa = 5\n",
    "\n",
    "rv_watson = ss.Watson(mu, kappa)\n",
    "samples_watson = rv_watson.rvs(500)\n",
    "samples_watson = samples_watson / np.linalg.norm(samples_watson, axis=1, keepdims=True)\n",
    "\n",
    "# create 3D plot of samples on sphere\n",
    "fig = plt.figure()\n",
    "ax = fig.add_subplot(111, projection='3d')\n",
    "ax.scatter(samples_watson[:,0], samples_watson[:,1], samples_watson[:,2], s=10)\n",
    "\n",
    "# set axis limits and labels\n",
    "ax.set_xlabel('X')\n",
    "ax.set_ylabel('Y')\n",
    "ax.set_zlabel('Z')\n",
    "\n",
    "# show plot\n",
    "plt.show"
   ]
  },
  {
   "cell_type": "code",
   "execution_count": null,
   "metadata": {},
   "outputs": [
    {
     "ename": "",
     "evalue": "",
     "output_type": "error",
     "traceback": [
      "\u001b[1;31mRunning cells with '/Users/yourantaojensen/opt/anaconda3/bin/python' requires the ipykernel package.\n",
      "\u001b[1;31mRun the following command to install 'ipykernel' into the Python environment. \n",
      "\u001b[1;31mCommand: 'conda install -p /Users/yourantaojensen/opt/anaconda3 ipykernel --update-deps --force-reinstall'"
     ]
    }
   ],
   "source": [
    "# distance between two points on a sphere \n",
    "# https://www.cuemath.com/trigonometry/trigonometric-table/\n",
    "# Source: https://www.math.ksu.edu/~dbski/writings/haversine.pdf\n",
    "\n",
    "def distance(r,vec1,vec2):\n",
    "    # pythagorean theorem\n",
    "    # d = math.sqrt((vec2[0]-vec1[0])**2 + (vec2[1]-vec1[1])**2 + (vec2[2]-vec1[2])**2)\n",
    "    d = np.linalg.norm(vec1-vec2)\n",
    "    # Arc Distance\n",
    "    dist = r * 2* math.asin(d/2)\n",
    "    return dist\n",
    "\n",
    "def pairDistances(r, data):\n",
    "    npts = np.shape(data)[0]\n",
    "    dist = []\n",
    "    for i in range(npts):\n",
    "        for j in range(i+1, npts):\n",
    "            #dist.append(distance(r, data[i, 0], data[i, 1], data[i, 2], data[j, 0], data[j, 1], data[j, 2]))\n",
    "            dist.append(distance(r, data[i], data[j]))\n",
    "    return dist\n",
    "\n",
    "# Calculating the distance between all pairs of points\n",
    "def surfaceArea(r):\n",
    "    area = 4 * math.pi * r**2\n",
    "    return area\n",
    "\n",
    "\n",
    "def ripleyK(r, data, radii):\n",
    "    K = np.zeros_like(radii)\n",
    "    area = surfaceArea(r)\n",
    "    dist = pairDistances(r, data)\n",
    "    pair_num = len(dist)\n",
    "    intensity = pair_num / area\n",
    "    for i in range(len(radii)):\n",
    "        K[i] = np.sum(dist < radii[i])\n",
    "    K = K / intensity\n",
    "    return K\n"
   ]
  },
  {
   "cell_type": "code",
   "execution_count": null,
   "metadata": {},
   "outputs": [
    {
     "ename": "",
     "evalue": "",
     "output_type": "error",
     "traceback": [
      "\u001b[1;31mRunning cells with '/Users/yourantaojensen/opt/anaconda3/bin/python' requires the ipykernel package.\n",
      "\u001b[1;31mRun the following command to install 'ipykernel' into the Python environment. \n",
      "\u001b[1;31mCommand: 'conda install -p /Users/yourantaojensen/opt/anaconda3 ipykernel --update-deps --force-reinstall'"
     ]
    }
   ],
   "source": [
    "radii = np.linspace(0, 4, 50)\n",
    "\n",
    "kt_uniform10 = ripleyK(1, samples_uniform10, radii)\n",
    "kt_uniform50 = ripleyK(1, samples_uniform50, radii)\n",
    "kt_uniform100 = ripleyK(1, samples_uniform100, radii)\n",
    "kt_uniform500 = ripleyK(1, samples_uniform500, radii)\n",
    "kt_uniform1000 = ripleyK(1, samples_uniform1000, radii)\n",
    "\n",
    "x = np.ravel(x_mgrid)\n",
    "y = np.ravel(y_mgrid)\n",
    "z = np.ravel(z_mgrid)\n",
    "samples_mgrid = np.array([x,y,z]).T\n",
    "kt_mgrid = ripleyK(1, samples_mgrid, radii)\n",
    "\n",
    "kt_vmf = ripleyK(1, samples_vmf, radii)\n",
    "# kt_watson_g0 = ripleyK(1, samples_watson_g0, radii)\n",
    "# kt_watson_l0 = ripleyK(1, samples_watson_l0, radii)\n",
    "kt_watson = ripleyK(1, samples_watson, radii)\n",
    "\n",
    "\n",
    "# Plotting the Ripley's K function\n",
    "plt.plot(radii, kt_uniform10, label='n = 10')\n",
    "plt.plot(radii, kt_uniform50, label='n = 50')\n",
    "plt.plot(radii, kt_uniform100, label='n = 100')\n",
    "plt.plot(radii, kt_uniform500, label='n = 500')\n",
    "plt.plot(radii, kt_uniform1000, label='n = 1000')\n",
    "plt.plot(radii, kt_mgrid, label='n = mgrid')\n",
    "plt.plot(radii, kt_vmf, label='n = vmf')\n",
    "plt.plot(radii, kt_watson, label='n = watson')\n",
    "#plt.plot(radii, kt_watson_g0, label='n = watson_g0')\n",
    "#plt.plot(radii, kt_watson_l0, label='n = watson_l0')\n",
    "plt.xlabel('Radius')\n",
    "plt.ylabel('K')\n",
    "plt.legend()\n",
    "plt.show()"
   ]
  },
  {
   "cell_type": "code",
   "execution_count": null,
   "metadata": {},
   "outputs": [
    {
     "ename": "",
     "evalue": "",
     "output_type": "error",
     "traceback": [
      "\u001b[1;31mRunning cells with '/Users/yourantaojensen/opt/anaconda3/bin/python' requires the ipykernel package.\n",
      "\u001b[1;31mRun the following command to install 'ipykernel' into the Python environment. \n",
      "\u001b[1;31mCommand: 'conda install -p /Users/yourantaojensen/opt/anaconda3 ipykernel --update-deps --force-reinstall'"
     ]
    }
   ],
   "source": [
    "# distance between two points on a sphere \n",
    "# https://www.cuemath.com/trigonometry/trigonometric-table/\n",
    "# Source: https://www.math.ksu.edu/~dbski/writings/haversine.pdf\n",
    "\n",
    "def distance(radii,vec1,vec2):\n",
    "    dist = radii * abs(math.acos(np.dot(vec1, vec2)/radii**2))\n",
    "    return dist\n",
    "\n",
    "def pairDistances(r, data):\n",
    "    npts = np.shape(data)[0]\n",
    "    dist = []\n",
    "    for i in range(npts):\n",
    "        for j in range(i+1, npts):\n",
    "            dist.append(distance(r, data[i], data[j]))\n",
    "    return dist\n",
    "\n",
    "# Calculating the distance between all pairs of points\n",
    "def surfaceArea(r):\n",
    "    area = 4 * math.pi * r**2\n",
    "    return area\n",
    "\n",
    "\n",
    "def ripleyK(r, data, radii):\n",
    "    K = np.zeros_like(radii)\n",
    "    area = surfaceArea(r)\n",
    "    dist = pairDistances(r, data)\n",
    "    pair_num = len(dist)\n",
    "    intensity = pair_num / area\n",
    "    for i in range(len(radii)):\n",
    "        K[i] = np.sum(dist < radii[i])\n",
    "    K = K / intensity\n",
    "    return K\n",
    "\n",
    "radii = np.linspace(0, 4, 50)\n",
    "\n",
    "# Plotting the Ripley's K function\n",
    "plt.plot(radii, kt10, label='n = 10')\n",
    "plt.plot(radii, kt50, label='n = 50')\n",
    "plt.plot(radii, kt100, label='n = 100')\n",
    "plt.plot(radii, kt500, label='n = 500')\n",
    "plt.plot(radii, kt1000, label='n = 1000')\n",
    "plt.xlabel('Radius')\n",
    "plt.ylabel('K')\n",
    "plt.legend()\n",
    "plt.show()"
   ]
  }
 ],
 "metadata": {
  "kernelspec": {
   "display_name": "Python 3 (ipykernel)",
   "language": "python",
   "name": "python3"
  },
  "language_info": {
   "codemirror_mode": {
    "name": "ipython",
    "version": 3
   },
   "file_extension": ".py",
   "mimetype": "text/x-python",
   "name": "python",
   "nbconvert_exporter": "python",
   "pygments_lexer": "ipython3",
   "version": "3.9.13"
  },
  "vscode": {
   "interpreter": {
    "hash": "916dbcbb3f70747c44a77c7bcd40155683ae19c65e1c03b4aa3499c5328201f1"
   }
  }
 },
 "nbformat": 4,
 "nbformat_minor": 2
}
