{
 "cells": [
  {
   "cell_type": "code",
   "execution_count": 4,
   "metadata": {},
   "outputs": [],
   "source": [
    "import numpy as np\n",
    "import csv\n",
    "import igl\n",
    "import math\n",
    "import matplotlib.pyplot as plt\n",
    "import mpl_toolkits.mplot3d \n",
    "import plotly.graph_objects as go\n",
    "from plotly.subplots import make_subplots\n",
    "import geopandas as gpd\n",
    "from shapely.ops import triangulate\n",
    "import os\n",
    "import pymesh\n",
    "import meshio"
   ]
  },
  {
   "cell_type": "code",
   "execution_count": 24,
   "metadata": {},
   "outputs": [
    {
     "ename": "TypeError",
     "evalue": "Mesh.__init__() missing 1 required positional argument: 'cells'",
     "output_type": "error",
     "traceback": [
      "\u001b[1;31m---------------------------------------------------------------------------\u001b[0m",
      "\u001b[1;31mTypeError\u001b[0m                                 Traceback (most recent call last)",
      "Cell \u001b[1;32mIn[24], line 24\u001b[0m\n\u001b[0;32m     22\u001b[0m \u001b[39m# Create a Meshio mesh object from the triangulation\u001b[39;00m\n\u001b[0;32m     23\u001b[0m mesh_data \u001b[39m=\u001b[39m {\u001b[39m\"\u001b[39m\u001b[39mvertices\u001b[39m\u001b[39m\"\u001b[39m: polygon\u001b[39m.\u001b[39mboundary, \u001b[39m\"\u001b[39m\u001b[39mcells\u001b[39m\u001b[39m\"\u001b[39m: [(\u001b[39m\"\u001b[39m\u001b[39mtriangle\u001b[39m\u001b[39m\"\u001b[39m, triangles)]}\n\u001b[1;32m---> 24\u001b[0m mesh \u001b[39m=\u001b[39m meshio\u001b[39m.\u001b[39;49mMesh(mesh_data)\n\u001b[0;32m     26\u001b[0m \u001b[39m# Convert the Meshio mesh object to a PyMesh mesh object\u001b[39;00m\n\u001b[0;32m     27\u001b[0m pymesh_mesh \u001b[39m=\u001b[39m pymesh\u001b[39m.\u001b[39mform_mesh(mesh\u001b[39m.\u001b[39mpoints, mesh\u001b[39m.\u001b[39mcells[\u001b[39m\"\u001b[39m\u001b[39mtriangle\u001b[39m\u001b[39m\"\u001b[39m])\n",
      "\u001b[1;31mTypeError\u001b[0m: Mesh.__init__() missing 1 required positional argument: 'cells'"
     ]
    }
   ],
   "source": [
    "import geopandas as gpd\n",
    "from shapely.ops import triangulate\n",
    "import os\n",
    "import pymesh\n",
    "import meshio\n",
    "\n",
    "# Load the shapefile using GeoPandas\n",
    "current_dir = os.getcwd()\n",
    "folder_path = os.path.join(current_dir, \"ocean\")\n",
    "path = os.path.join(folder_path, \"ne_10m_ocean.shp\")\n",
    "shapefile = gpd.read_file(path)\n",
    "\n",
    "# Iterate over each MultiPolygon in the shapefile\n",
    "for multi_polygon in shapefile.geometry:\n",
    "\n",
    "    # Iterate over each Polygon in the MultiPolygon\n",
    "    for polygon in multi_polygon.geoms:\n",
    "\n",
    "        # Triangulate the polygon boundary using the Delaunay algorithm\n",
    "        triangles = triangulate(polygon.boundary)\n",
    "\n",
    "        # Create a Meshio mesh object from the triangulation\n",
    "        mesh_data = {\"vertices\": polygon.boundary, \"cells\": [(\"triangle\", triangles)]}\n",
    "        mesh = meshio.Mesh(mesh_data)\n",
    "\n",
    "        # Convert the Meshio mesh object to a PyMesh mesh object\n",
    "        pymesh_mesh = pymesh.form_mesh(mesh.points, mesh.cells[\"triangle\"])\n",
    "\n",
    "        # Generate a refined mesh on the sphere using PyMesh\n",
    "        refined_mesh, _ = pymesh.split_long_edges(pymesh_mesh, 1e-5)\n",
    "        refined_mesh = pymesh.resolve_self_intersection(refined_mesh)\n",
    "        refined_mesh = pymesh.compute_outer_hull(refined_mesh)\n",
    "        refined_mesh, _ = pymesh.collapse_short_edges(refined_mesh, 1e-5)\n",
    "\n",
    "        # Save the mesh to a file\n",
    "        output_path = \"path/to/output.obj\"\n",
    "        pymesh.save_mesh(output_path, refined_mesh)\n"
   ]
  }
 ],
 "metadata": {
  "kernelspec": {
   "display_name": "Python 3 (ipykernel)",
   "language": "python",
   "name": "python3"
  },
  "language_info": {
   "codemirror_mode": {
    "name": "ipython",
    "version": 3
   },
   "file_extension": ".py",
   "mimetype": "text/x-python",
   "name": "python",
   "nbconvert_exporter": "python",
   "pygments_lexer": "ipython3",
   "version": "3.10.11"
  },
  "vscode": {
   "interpreter": {
    "hash": "c97799627727637036a080eba12c79a9fe3032f00b0b84b09ea9bc13ff4fdd25"
   }
  }
 },
 "nbformat": 4,
 "nbformat_minor": 2
}
