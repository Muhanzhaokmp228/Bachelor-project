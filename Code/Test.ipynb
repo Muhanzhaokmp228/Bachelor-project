{
 "cells": [
  {
   "cell_type": "code",
   "execution_count": 1,
   "metadata": {},
   "outputs": [],
   "source": [
    "import numpy as np\n",
    "import csv\n",
    "import igl\n",
    "import math\n",
    "import matplotlib.pyplot as plt\n",
    "from mpl_toolkits.mplot3d import Axes3D\n",
    "import plotly.graph_objects as go\n",
    "from plotly.subplots import make_subplots\n",
    "import geopandas as gpd\n",
    "from shapely.ops import triangulate\n",
    "import meshio\n",
    "import os"
   ]
  },
  {
   "cell_type": "code",
   "execution_count": 5,
   "metadata": {},
   "outputs": [
    {
     "name": "stderr",
     "output_type": "stream",
     "text": [
      "C:\\Users\\muhan\\AppData\\Local\\Packages\\PythonSoftwareFoundation.Python.3.10_qbz5n2kfra8p0\\LocalCache\\local-packages\\Python310\\site-packages\\meshio\\_mesh.py:129: VisibleDeprecationWarning: Creating an ndarray from ragged nested sequences (which is a list-or-tuple of lists-or-tuples-or ndarrays with different lengths or shapes) is deprecated. If you meant to do this, you must specify 'dtype=object' when creating the ndarray.\n",
      "  self.points = np.asarray(points)\n"
     ]
    },
    {
     "ename": "ValueError",
     "evalue": "could not broadcast input array from shape (2,100613) into shape (2,)",
     "output_type": "error",
     "traceback": [
      "\u001b[1;31m---------------------------------------------------------------------------\u001b[0m",
      "\u001b[1;31mValueError\u001b[0m                                Traceback (most recent call last)",
      "Cell \u001b[1;32mIn[5], line 27\u001b[0m\n\u001b[0;32m     23\u001b[0m triangles \u001b[39m=\u001b[39m triangulate(multipolygon)\n\u001b[0;32m     25\u001b[0m \u001b[39m# convert the triangles to a meshio mesh\u001b[39;00m\n\u001b[1;32m---> 27\u001b[0m mesh \u001b[39m=\u001b[39m meshio\u001b[39m.\u001b[39;49mMesh(points\u001b[39m=\u001b[39;49mpolygon_xy, cells\u001b[39m=\u001b[39;49m[(\u001b[39m'\u001b[39;49m\u001b[39mtriangle\u001b[39;49m\u001b[39m'\u001b[39;49m, triangles)])\n\u001b[0;32m     29\u001b[0m \u001b[39m# save the mesh as an OFF file\u001b[39;00m\n\u001b[0;32m     30\u001b[0m meshio\u001b[39m.\u001b[39mwrite(\u001b[39m'\u001b[39m\u001b[39moutput.off\u001b[39m\u001b[39m'\u001b[39m, mesh, file_format\u001b[39m=\u001b[39m\u001b[39m'\u001b[39m\u001b[39moff\u001b[39m\u001b[39m'\u001b[39m)\n",
      "File \u001b[1;32m~\\AppData\\Local\\Packages\\PythonSoftwareFoundation.Python.3.10_qbz5n2kfra8p0\\LocalCache\\local-packages\\Python310\\site-packages\\meshio\\_mesh.py:129\u001b[0m, in \u001b[0;36mMesh.__init__\u001b[1;34m(self, points, cells, point_data, cell_data, field_data, point_sets, cell_sets, gmsh_periodic, info)\u001b[0m\n\u001b[0;32m    117\u001b[0m \u001b[39mdef\u001b[39;00m \u001b[39m__init__\u001b[39m(\n\u001b[0;32m    118\u001b[0m     \u001b[39mself\u001b[39m,\n\u001b[0;32m    119\u001b[0m     points: ArrayLike,\n\u001b[1;32m   (...)\u001b[0m\n\u001b[0;32m    127\u001b[0m     info\u001b[39m=\u001b[39m\u001b[39mNone\u001b[39;00m,\n\u001b[0;32m    128\u001b[0m ):\n\u001b[1;32m--> 129\u001b[0m     \u001b[39mself\u001b[39m\u001b[39m.\u001b[39mpoints \u001b[39m=\u001b[39m np\u001b[39m.\u001b[39;49masarray(points)\n\u001b[0;32m    130\u001b[0m     \u001b[39mif\u001b[39;00m \u001b[39misinstance\u001b[39m(cells, \u001b[39mdict\u001b[39m):\n\u001b[0;32m    131\u001b[0m         \u001b[39m# Let's not deprecate this for now.\u001b[39;00m\n\u001b[0;32m    132\u001b[0m         \u001b[39m# warn(\u001b[39;00m\n\u001b[1;32m   (...)\u001b[0m\n\u001b[0;32m    138\u001b[0m         \u001b[39m#\u001b[39;00m\n\u001b[0;32m    139\u001b[0m         \u001b[39m# convert dict to list of tuples\u001b[39;00m\n\u001b[0;32m    140\u001b[0m         cells \u001b[39m=\u001b[39m \u001b[39mlist\u001b[39m(cells\u001b[39m.\u001b[39mitems())\n",
      "\u001b[1;31mValueError\u001b[0m: could not broadcast input array from shape (2,100613) into shape (2,)"
     ]
    }
   ],
   "source": [
    "\n",
    "# Load the shapefile\n",
    "current_dir = os.getcwd()\n",
    "folder_path = os.path.join(current_dir, \"ocean\")\n",
    "path = os.path.join(folder_path, \"ne_10m_ocean.shp\")\n",
    "shp = gpd.read_file(path)\n",
    "\n",
    "shp.head()\n",
    "geometry = shp.geometry.iloc[0]\n",
    "\n",
    "# check if the geometry is a MultiPolygon\n",
    "if geometry.geom_type == 'MultiPolygon':\n",
    "    # if it's a MultiPolygon, extract it as is\n",
    "    multipolygon = geometry\n",
    "else:\n",
    "    # if it's a Polygon, convert it to a MultiPolygon\n",
    "    multipolygon = geometry.buffer(0)\n",
    "\n",
    "polygon_xy = []\n",
    "for ea in geometry.geoms:\n",
    "    polygon_xy.append(np.array(ea.exterior.coords.xy))\n",
    "\n",
    "triangles = triangulate(multipolygon)\n",
    "\n",
    "# convert the triangles to a meshio mesh\n",
    "\n",
    "mesh = meshio.Mesh(points=polygon_xy, cells=[('triangle', triangles)])\n",
    "\n",
    "# save the mesh as an OFF file\n",
    "meshio.write('output.off', mesh, file_format='off')"
   ]
  },
  {
   "cell_type": "code",
   "execution_count": 26,
   "metadata": {},
   "outputs": [],
   "source": [
    "\n",
    "# Load the shapefile\n",
    "current_dir = os.getcwd()\n",
    "folder_path = os.path.join(current_dir, \"ocean\")\n",
    "path = os.path.join(folder_path, \"ne_10m_ocean.shp\")\n",
    "sf = shapefile.Reader(path)\n",
    "\n",
    "# Get the shapes (polygons) from the shapefile\n",
    "shapes = sf.shapes()\n",
    "\n",
    "# Initialize the vertices list\n",
    "vertices = []\n",
    "\n",
    "# Loop over all shapes\n",
    "for shape in shapes:\n",
    "    # Loop over all points in the shape\n",
    "    for point in shape.points:\n",
    "        # Add the point to the vertices list\n",
    "        vertices.append(point)\n",
    "\n",
    "# Convert the vertices list to a numpy array\n",
    "vertices = np.array(vertices)\n",
    "\n",
    "# Open the output OFF file\n",
    "with open(\"output.off\", \"w\") as f:\n",
    "    # Write the header\n",
    "    f.write(\"OFF\\n\")\n",
    "    f.write(\"{} 0 0\\n\".format(len(vertices)))\n",
    "    # Write the vertices\n",
    "    for vertex in vertices:\n",
    "        f.write(\"{} {} {}\\n\".format(vertex[0], vertex[1], 0))\n",
    "    # Write the faces (empty, since the shapefile only contains vertices)\n",
    "    f.write(\"0 0 0\\n\")\n",
    "\n",
    "# Load the mesh\n",
    "vertices, faces = igl.read_triangle_mesh(\"output.off\")\n",
    "\n",
    "# Plot the mesh\n",
    "fig = make_subplots(rows=1, cols=2, specs=[[{'type': 'scene'}, {'type': 'scene'}]])\n"
   ]
  }
 ],
 "metadata": {
  "kernelspec": {
   "display_name": "Python 3 (ipykernel)",
   "language": "python",
   "name": "python3"
  },
  "language_info": {
   "codemirror_mode": {
    "name": "ipython",
    "version": 3
   },
   "file_extension": ".py",
   "mimetype": "text/x-python",
   "name": "python",
   "nbconvert_exporter": "python",
   "pygments_lexer": "ipython3",
   "version": "3.10.11"
  },
  "vscode": {
   "interpreter": {
    "hash": "c97799627727637036a080eba12c79a9fe3032f00b0b84b09ea9bc13ff4fdd25"
   }
  }
 },
 "nbformat": 4,
 "nbformat_minor": 2
}
