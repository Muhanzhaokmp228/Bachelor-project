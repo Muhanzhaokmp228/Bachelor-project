{
 "cells": [
  {
   "cell_type": "code",
   "execution_count": 3,
   "metadata": {},
   "outputs": [],
   "source": [
    "import numpy as np\n",
    "import csv\n",
    "import igl\n",
    "import math\n",
    "import matplotlib.pyplot as plt\n",
    "from mpl_toolkits.mplot3d import Axes3D\n",
    "import plotly.graph_objects as go\n",
    "from plotly.subplots import make_subplots\n",
    "import plotly.express as px\n",
    "import geopandas as gpd\n",
    "from shapely.ops import triangulate\n",
    "import meshio\n",
    "import os\n"
   ]
  },
  {
   "cell_type": "code",
   "execution_count": 2,
   "metadata": {},
   "outputs": [
    {
     "ename": "FileNotFoundError",
     "evalue": "[Errno 2] No such file or directory: 'c:\\\\Users\\\\muhan\\\\Documents\\\\Datalogi\\\\bachelor\\\\Bachelor-project\\\\Code\\\\points_oceans.npy'",
     "output_type": "error",
     "traceback": [
      "\u001b[1;31m---------------------------------------------------------------------------\u001b[0m",
      "\u001b[1;31mFileNotFoundError\u001b[0m                         Traceback (most recent call last)",
      "Cell \u001b[1;32mIn[2], line 4\u001b[0m\n\u001b[0;32m      1\u001b[0m current_dir \u001b[39m=\u001b[39m os\u001b[39m.\u001b[39mgetcwd()\n\u001b[0;32m      2\u001b[0m path \u001b[39m=\u001b[39m os\u001b[39m.\u001b[39mpath\u001b[39m.\u001b[39mjoin(current_dir, \u001b[39m\"\u001b[39m\u001b[39mpoints_oceans.npy\u001b[39m\u001b[39m\"\u001b[39m)\n\u001b[1;32m----> 4\u001b[0m data \u001b[39m=\u001b[39m np\u001b[39m.\u001b[39;49mload(path)\n\u001b[0;32m      5\u001b[0m \u001b[39mprint\u001b[39m(data\u001b[39m.\u001b[39mshape)\n\u001b[0;32m      7\u001b[0m \u001b[39m# Plotting the points\u001b[39;00m\n",
      "File \u001b[1;32m~\\AppData\\Local\\Packages\\PythonSoftwareFoundation.Python.3.10_qbz5n2kfra8p0\\LocalCache\\local-packages\\Python310\\site-packages\\numpy\\lib\\npyio.py:405\u001b[0m, in \u001b[0;36mload\u001b[1;34m(file, mmap_mode, allow_pickle, fix_imports, encoding, max_header_size)\u001b[0m\n\u001b[0;32m    403\u001b[0m     own_fid \u001b[39m=\u001b[39m \u001b[39mFalse\u001b[39;00m\n\u001b[0;32m    404\u001b[0m \u001b[39melse\u001b[39;00m:\n\u001b[1;32m--> 405\u001b[0m     fid \u001b[39m=\u001b[39m stack\u001b[39m.\u001b[39menter_context(\u001b[39mopen\u001b[39;49m(os_fspath(file), \u001b[39m\"\u001b[39;49m\u001b[39mrb\u001b[39;49m\u001b[39m\"\u001b[39;49m))\n\u001b[0;32m    406\u001b[0m     own_fid \u001b[39m=\u001b[39m \u001b[39mTrue\u001b[39;00m\n\u001b[0;32m    408\u001b[0m \u001b[39m# Code to distinguish from NumPy binary files and pickles.\u001b[39;00m\n",
      "\u001b[1;31mFileNotFoundError\u001b[0m: [Errno 2] No such file or directory: 'c:\\\\Users\\\\muhan\\\\Documents\\\\Datalogi\\\\bachelor\\\\Bachelor-project\\\\Code\\\\points_oceans.npy'"
     ]
    }
   ],
   "source": [
    "current_dir = os.getcwd()\n",
    "path = os.path.join(current_dir, \"points_oceans.npy\")\n",
    "\n",
    "data = np.load(path)\n",
    "print(data.shape)\n",
    "\n",
    "# Plotting the points\n",
    "fig = plt.figure(figsize=(15,10))\n",
    "ax = fig.add_subplot(111)\n",
    "ax.scatter(data[:,0], -data[:,1], s=1, c='b', marker='o')\n",
    "plt.show()"
   ]
  },
  {
   "cell_type": "code",
   "execution_count": null,
   "metadata": {},
   "outputs": [],
   "source": [
    "data = np.load(path)\n",
    "\n",
    "# Filtering the egdes\n",
    "filtered_data = data[(data[:,0] < 3.141) & (data[:,0] > -3.141) & (data[:,1] > 8.8817*10**(-16))]\n",
    "filtered_data = filtered_data[::10] # Taking every 10th point\n",
    "print(filtered_data.shape)\n",
    "# Plotting the points\n",
    "# filtered_data = filtered_data[0:400000,]\n",
    "px.scatter(x=filtered_data[:,0], y=-filtered_data[:,1])"
   ]
  },
  {
   "cell_type": "code",
   "execution_count": null,
   "metadata": {},
   "outputs": [],
   "source": [
    "current_dir = os.getcwd()\n",
    "path2 = os.path.join(current_dir, \"cartesian_coords_points_oceans.npz\")\n",
    "\n",
    "data2 = np.load(path2)\n",
    "x = data2['arr_0']\n",
    "y = data2['arr_1']\n",
    "\n",
    "print(x.shape)\n",
    "print(y.shape)"
   ]
  },
  {
   "cell_type": "code",
   "execution_count": 4,
   "metadata": {},
   "outputs": [],
   "source": [
    "#Projecting the point on the mesh\n",
    "def project_point_to_mesh(point, vecs):\n",
    "    u = vecs[1] - vecs[0]\n",
    "    v = vecs[2] - vecs[0]\n",
    "    \n",
    "    n = np.cross(u, v)\n",
    "    w = point - vecs[0]\n",
    "\n",
    "    gamma = np.dot(np.cross(u, w), n) / np.dot(n, n)\n",
    "    beta = np.dot(np.cross(w, v), n) / np.dot(n, n)\n",
    "    alpha = 1 - gamma - beta\n",
    "\n",
    "    y = alpha * vecs[0] + beta * vecs[1] + gamma * vecs[2]\n",
    "    return y\n",
    "\n",
    "#Projecting the point on the mesh\n",
    "def project_point_to_mesh2(point, vecs):\n",
    "    u = vecs[1] - vecs[0]\n",
    "    v = vecs[2] - vecs[0]\n",
    "    n = np.cross(u, v)\n",
    "    w = point - vecs[0]\n",
    "\n",
    "    gamma = np.dot(np.cross(u, w), n) / np.dot(n, n)\n",
    "    beta = np.dot(np.cross(w, v), n) / np.dot(n, n)\n",
    "    alpha = 1 - gamma - beta\n",
    "\n",
    "    # y = alpha * vecs[0] + beta * vecs[1] + gamma * vecs[2]\n",
    "    y = (1 - gamma) * vecs[0] + (gamma * (1 - beta)) * vecs[1] + (gamma * beta) * vecs[2]\n",
    "    return y\n",
    "    # if alpha >= 0 and beta >= 0 and gamma >= 0 and alpha <= 1 and beta <= 1 and gamma <= 1:\n",
    "    #     return alpha * vecs[0] + beta * vecs[1] + gamma * vecs[2]\n",
    "    # else:\n",
    "    #     return (1 - u) * a + (u * (1 - v)) * b + (u * v) * c"
   ]
  },
  {
   "cell_type": "code",
   "execution_count": 5,
   "metadata": {},
   "outputs": [],
   "source": [
    "import numpy as np\n",
    "\n",
    "def project_to_triangle(point, triangle_vertices):\n",
    "    v0, v1, v2 = triangle_vertices\n",
    "\n",
    "    # Compute the vectors representing the edges of the triangle\n",
    "    e0 = v1 - v0\n",
    "    e1 = v2 - v0\n",
    "\n",
    "    # Calculate the barycentric coordinates of the projection point\n",
    "    e0_dot_e0 = np.dot(e0, e0)\n",
    "    e0_dot_e1 = np.dot(e0, e1)\n",
    "    e1_dot_e1 = np.dot(e1, e1)\n",
    "    e0_dot_point = np.dot(e0, point - v0)\n",
    "    e1_dot_point = np.dot(e1, point - v0)\n",
    "\n",
    "    denom = e0_dot_e0 * e1_dot_e1 - e0_dot_e1 * e0_dot_e1\n",
    "\n",
    "    barycentric_coords = np.empty(3)\n",
    "    barycentric_coords[0] = (e1_dot_e1 * e0_dot_point - e0_dot_e1 * e1_dot_point) / denom\n",
    "    barycentric_coords[1] = (e0_dot_e0 * e1_dot_point - e0_dot_e1 * e0_dot_point) / denom\n",
    "    barycentric_coords[2] = 1.0 - barycentric_coords[0] - barycentric_coords[1]\n",
    "\n",
    "    # Determine if the projection point is inside the triangle\n",
    "    if np.all(barycentric_coords >= 0) and np.all(barycentric_coords <= 1):\n",
    "        # Calculate the projected point by interpolating the vertices\n",
    "        projected_point = barycentric_coords[0] * v0 + barycentric_coords[1] * v1 + barycentric_coords[2] * v2\n",
    "        return projected_point\n",
    "\n",
    "    return None  # Return None if the point is outside the triangle\n"
   ]
  },
  {
   "cell_type": "code",
   "execution_count": 21,
   "metadata": {},
   "outputs": [
    {
     "name": "stdout",
     "output_type": "stream",
     "text": [
      "[0.25 0.25 0.  ]\n",
      "[ 1.125 -0.5    0.   ]\n"
     ]
    },
    {
     "data": {
      "image/png": "[encoded data removed]",
      "text/plain": [
       "<Figure size 640x480 with 1 Axes>"
      ]
     },
     "metadata": {},
     "output_type": "display_data"
    }
   ],
   "source": [
    "#test projec_point_to_mesh\n",
    "vecs = np.array([[1,0,0],[0,1,0],[1,1,0]])\n",
    "point = np.array([0.25, 0.25, 0.5])\n",
    "\n",
    "pp1 = project_point_to_mesh(point, vecs)\n",
    "print(pp1)\n",
    "pp2 = project_point_to_mesh2(point, vecs)\n",
    "print(pp2)\n",
    "\n",
    "x = [vec[0] for vec in vecs]\n",
    "y = [vec[1] for vec in vecs]\n",
    "z = [vec[2] for vec in vecs]\n",
    "\n",
    "# Create a 3D plot\n",
    "fig = plt.figure()\n",
    "ax = fig.add_subplot(111, projection='3d')\n",
    "\n",
    "# Plot the triangle\n",
    "ax.plot([x[0], x[1]], [y[0], y[1]], [z[0], z[1]], 'b-')\n",
    "ax.plot([x[1], x[2]], [y[1], y[2]], [z[1], z[2]], 'b-')\n",
    "ax.plot([x[2], x[0]], [y[2], y[0]], [z[2], z[0]], 'b-')\n",
    "\n",
    "ax.scatter(point[0], point[1], point[2], color='r', s=50)\n",
    "ax.scatter(pp1[0], pp1[1], pp1[2], color='g', s=50)\n",
    "ax.scatter(pp2[0], pp2[1], pp2[2], color='y', s=50)\n",
    "\n",
    "# Show the plot\n",
    "plt.show()"
   ]
  },
  {
   "cell_type": "code",
   "execution_count": 9,
   "metadata": {},
   "outputs": [
    {
     "data": {
      "image/png": "[encoded data removed]",
      "text/plain": [
       "<Figure size 640x480 with 1 Axes>"
      ]
     },
     "metadata": {},
     "output_type": "display_data"
    }
   ],
   "source": [
    "# generate a triangle in 3d with random coordinates\n",
    "triangle = np.random.rand(3, 3)\n",
    "point = np.array([0.25, 0.25, 0.5])\n",
    "\n",
    "# project the point on the triangle plane\n",
    "projected_point2 = project_point_to_mesh2(point, triangle)\n",
    "projected_point = project_point_to_mesh(point, triangle)\n",
    "\n",
    "# plot the triangle plane\n",
    "fig = plt.figure()\n",
    "ax = fig.add_subplot(111, projection='3d')\n",
    "ax.plot_trisurf(triangle[:, 0], triangle[:, 1], triangle[:, 2], color = \"cyan\" ,linewidth=0.2 ,antialiased=True)\n",
    "ax.scatter(point[0], point[1], point[2], color='r', s=50)\n",
    "ax.scatter(projected_point[0], projected_point[1], projected_point[2], color='g', s=50)\n",
    "ax.scatter(projected_point2[0], projected_point2[1], projected_point2[2], color='y', s=50)\n",
    "plt.show()"
   ]
  },
  {
   "cell_type": "code",
   "execution_count": 20,
   "metadata": {},
   "outputs": [
    {
     "data": {
      "application/vnd.plotly.v1+json": {
       "config": {
        "plotlyServerURL": "https://plot.ly"
       },
       "data": [
        {
         "color": "cyan",
         "opacity": 0.5,
         "type": "mesh3d",
         "x": [
          0.31254671218846153,
          0.774983383768148,
          0.36634512015972776
         ],
         "y": [
          0.6581924727014178,
          0.03854253425928822,
          0.009923612106297552
         ],
         "z": [
          0.06770277370015332,
          0.8525357480849037,
          0.044838388444409016
         ]
        },
        {
         "marker": {
          "color": "red",
          "size": 10
         },
         "mode": "markers",
         "name": "Original",
         "type": "scatter3d",
         "x": [
          0.25
         ],
         "y": [
          0.25
         ],
         "z": [
          0.5
         ]
        },
        {
         "marker": {
          "color": "green",
          "size": 10
         },
         "mode": "markers",
         "name": "Projection 1",
         "type": "scatter3d",
         "x": [
          0.505172546032398
         ],
         "y": [
          0.2757617287853995
         ],
         "z": [
          0.36998776486208307
         ]
        },
        {
         "marker": {
          "color": "yellow",
          "size": 10
         },
         "mode": "markers",
         "name": "Projection 2",
         "type": "scatter3d",
         "x": [
          0.37781017302200254
         ],
         "y": [
          0.5220778469042172
         ],
         "z": [
          0.16882322114358447
         ]
        }
       ],
       "layout": {
        "template": {
         "data": {
          "bar": [
           {
            "error_x": {
             "color": "#2a3f5f"
            },
            "error_y": {
             "color": "#2a3f5f"
            },
            "marker": {
             "line": {
              "color": "#E5ECF6",
              "width": 0.5
             },
             "pattern": {
              "fillmode": "overlay",
              "size": 10,
              "solidity": 0.2
             }
            },
            "type": "bar"
           }
          ],
          "barpolar": [
           {
            "marker": {
             "line": {
              "color": "#E5ECF6",
              "width": 0.5
             },
             "pattern": {
              "fillmode": "overlay",
              "size": 10,
              "solidity": 0.2
             }
            },
            "type": "barpolar"
           }
          ],
          "carpet": [
           {
            "aaxis": {
             "endlinecolor": "#2a3f5f",
             "gridcolor": "white",
             "linecolor": "white",
             "minorgridcolor": "white",
             "startlinecolor": "#2a3f5f"
            },
            "baxis": {
             "endlinecolor": "#2a3f5f",
             "gridcolor": "white",
             "linecolor": "white",
             "minorgridcolor": "white",
             "startlinecolor": "#2a3f5f"
            },
            "type": "carpet"
           }
          ],
          "choropleth": [
           {
            "colorbar": {
             "outlinewidth": 0,
             "ticks": ""
            },
            "type": "choropleth"
           }
          ],
          "contour": [
           {
            "colorbar": {
             "outlinewidth": 0,
             "ticks": ""
            },
            "colorscale": [
             [
              0,
              "#0d0887"
             ],
             [
              0.1111111111111111,
              "#46039f"
             ],
             [
              0.2222222222222222,
              "#7201a8"
             ],
             [
              0.3333333333333333,
              "#9c179e"
             ],
             [
              0.4444444444444444,
              "#bd3786"
             ],
             [
              0.5555555555555556,
              "#d8576b"
             ],
             [
              0.6666666666666666,
              "#ed7953"
             ],
             [
              0.7777777777777778,
              "#fb9f3a"
             ],
             [
              0.8888888888888888,
              "#fdca26"
             ],
             [
              1,
              "#f0f921"
             ]
            ],
            "type": "contour"
           }
          ],
          "contourcarpet": [
           {
            "colorbar": {
             "outlinewidth": 0,
             "ticks": ""
            },
            "type": "contourcarpet"
           }
          ],
          "heatmap": [
           {
            "colorbar": {
             "outlinewidth": 0,
             "ticks": ""
            },
            "colorscale": [
             [
              0,
              "#0d0887"
             ],
             [
              0.1111111111111111,
              "#46039f"
             ],
             [
              0.2222222222222222,
              "#7201a8"
             ],
             [
              0.3333333333333333,
              "#9c179e"
             ],
             [
              0.4444444444444444,
              "#bd3786"
             ],
             [
              0.5555555555555556,
              "#d8576b"
             ],
             [
              0.6666666666666666,
              "#ed7953"
             ],
             [
              0.7777777777777778,
              "#fb9f3a"
             ],
             [
              0.8888888888888888,
              "#fdca26"
             ],
             [
              1,
              "#f0f921"
             ]
            ],
            "type": "heatmap"
           }
          ],
          "heatmapgl": [
           {
            "colorbar": {
             "outlinewidth": 0,
             "ticks": ""
            },
            "colorscale": [
             [
              0,
              "#0d0887"
             ],
             [
              0.1111111111111111,
              "#46039f"
             ],
             [
              0.2222222222222222,
              "#7201a8"
             ],
             [
              0.3333333333333333,
              "#9c179e"
             ],
             [
              0.4444444444444444,
              "#bd3786"
             ],
             [
              0.5555555555555556,
              "#d8576b"
             ],
             [
              0.6666666666666666,
              "#ed7953"
             ],
             [
              0.7777777777777778,
              "#fb9f3a"
             ],
             [
              0.8888888888888888,
              "#fdca26"
             ],
             [
              1,
              "#f0f921"
             ]
            ],
            "type": "heatmapgl"
           }
          ],
          "histogram": [
           {
            "marker": {
             "pattern": {
              "fillmode": "overlay",
              "size": 10,
              "solidity": 0.2
             }
            },
            "type": "histogram"
           }
          ],
          "histogram2d": [
           {
            "colorbar": {
             "outlinewidth": 0,
             "ticks": ""
            },
            "colorscale": [
             [
              0,
              "#0d0887"
             ],
             [
              0.1111111111111111,
              "#46039f"
             ],
             [
              0.2222222222222222,
              "#7201a8"
             ],
             [
              0.3333333333333333,
              "#9c179e"
             ],
             [
              0.4444444444444444,
              "#bd3786"
             ],
             [
              0.5555555555555556,
              "#d8576b"
             ],
             [
              0.6666666666666666,
              "#ed7953"
             ],
             [
              0.7777777777777778,
              "#fb9f3a"
             ],
             [
              0.8888888888888888,
              "#fdca26"
             ],
             [
              1,
              "#f0f921"
             ]
            ],
            "type": "histogram2d"
           }
          ],
          "histogram2dcontour": [
           {
            "colorbar": {
             "outlinewidth": 0,
             "ticks": ""
            },
            "colorscale": [
             [
              0,
              "#0d0887"
             ],
             [
              0.1111111111111111,
              "#46039f"
             ],
             [
              0.2222222222222222,
              "#7201a8"
             ],
             [
              0.3333333333333333,
              "#9c179e"
             ],
             [
              0.4444444444444444,
              "#bd3786"
             ],
             [
              0.5555555555555556,
              "#d8576b"
             ],
             [
              0.6666666666666666,
              "#ed7953"
             ],
             [
              0.7777777777777778,
              "#fb9f3a"
             ],
             [
              0.8888888888888888,
              "#fdca26"
             ],
             [
              1,
              "#f0f921"
             ]
            ],
            "type": "histogram2dcontour"
           }
          ],
          "mesh3d": [
           {
            "colorbar": {
             "outlinewidth": 0,
             "ticks": ""
            },
            "type": "mesh3d"
           }
          ],
          "parcoords": [
           {
            "line": {
             "colorbar": {
              "outlinewidth": 0,
              "ticks": ""
             }
            },
            "type": "parcoords"
           }
          ],
          "pie": [
           {
            "automargin": true,
            "type": "pie"
           }
          ],
          "scatter": [
           {
            "fillpattern": {
             "fillmode": "overlay",
             "size": 10,
             "solidity": 0.2
            },
            "type": "scatter"
           }
          ],
          "scatter3d": [
           {
            "line": {
             "colorbar": {
              "outlinewidth": 0,
              "ticks": ""
             }
            },
            "marker": {
             "colorbar": {
              "outlinewidth": 0,
              "ticks": ""
             }
            },
            "type": "scatter3d"
           }
          ],
          "scattercarpet": [
           {
            "marker": {
             "colorbar": {
              "outlinewidth": 0,
              "ticks": ""
             }
            },
            "type": "scattercarpet"
           }
          ],
          "scattergeo": [
           {
            "marker": {
             "colorbar": {
              "outlinewidth": 0,
              "ticks": ""
             }
            },
            "type": "scattergeo"
           }
          ],
          "scattergl": [
           {
            "marker": {
             "colorbar": {
              "outlinewidth": 0,
              "ticks": ""
             }
            },
            "type": "scattergl"
           }
          ],
          "scattermapbox": [
           {
            "marker": {
             "colorbar": {
              "outlinewidth": 0,
              "ticks": ""
             }
            },
            "type": "scattermapbox"
           }
          ],
          "scatterpolar": [
           {
            "marker": {
             "colorbar": {
              "outlinewidth": 0,
              "ticks": ""
             }
            },
            "type": "scatterpolar"
           }
          ],
          "scatterpolargl": [
           {
            "marker": {
             "colorbar": {
              "outlinewidth": 0,
              "ticks": ""
             }
            },
            "type": "scatterpolargl"
           }
          ],
          "scatterternary": [
           {
            "marker": {
             "colorbar": {
              "outlinewidth": 0,
              "ticks": ""
             }
            },
            "type": "scatterternary"
           }
          ],
          "surface": [
           {
            "colorbar": {
             "outlinewidth": 0,
             "ticks": ""
            },
            "colorscale": [
             [
              0,
              "#0d0887"
             ],
             [
              0.1111111111111111,
              "#46039f"
             ],
             [
              0.2222222222222222,
              "#7201a8"
             ],
             [
              0.3333333333333333,
              "#9c179e"
             ],
             [
              0.4444444444444444,
              "#bd3786"
             ],
             [
              0.5555555555555556,
              "#d8576b"
             ],
             [
              0.6666666666666666,
              "#ed7953"
             ],
             [
              0.7777777777777778,
              "#fb9f3a"
             ],
             [
              0.8888888888888888,
              "#fdca26"
             ],
             [
              1,
              "#f0f921"
             ]
            ],
            "type": "surface"
           }
          ],
          "table": [
           {
            "cells": {
             "fill": {
              "color": "#EBF0F8"
             },
             "line": {
              "color": "white"
             }
            },
            "header": {
             "fill": {
              "color": "#C8D4E3"
             },
             "line": {
              "color": "white"
             }
            },
            "type": "table"
           }
          ]
         },
         "layout": {
          "annotationdefaults": {
           "arrowcolor": "#2a3f5f",
           "arrowhead": 0,
           "arrowwidth": 1
          },
          "autotypenumbers": "strict",
          "coloraxis": {
           "colorbar": {
            "outlinewidth": 0,
            "ticks": ""
           }
          },
          "colorscale": {
           "diverging": [
            [
             0,
             "#8e0152"
            ],
            [
             0.1,
             "#c51b7d"
            ],
            [
             0.2,
             "#de77ae"
            ],
            [
             0.3,
             "#f1b6da"
            ],
            [
             0.4,
             "#fde0ef"
            ],
            [
             0.5,
             "#f7f7f7"
            ],
            [
             0.6,
             "#e6f5d0"
            ],
            [
             0.7,
             "#b8e186"
            ],
            [
             0.8,
             "#7fbc41"
            ],
            [
             0.9,
             "#4d9221"
            ],
            [
             1,
             "#276419"
            ]
           ],
           "sequential": [
            [
             0,
             "#0d0887"
            ],
            [
             0.1111111111111111,
             "#46039f"
            ],
            [
             0.2222222222222222,
             "#7201a8"
            ],
            [
             0.3333333333333333,
             "#9c179e"
            ],
            [
             0.4444444444444444,
             "#bd3786"
            ],
            [
             0.5555555555555556,
             "#d8576b"
            ],
            [
             0.6666666666666666,
             "#ed7953"
            ],
            [
             0.7777777777777778,
             "#fb9f3a"
            ],
            [
             0.8888888888888888,
             "#fdca26"
            ],
            [
             1,
             "#f0f921"
            ]
           ],
           "sequentialminus": [
            [
             0,
             "#0d0887"
            ],
            [
             0.1111111111111111,
             "#46039f"
            ],
            [
             0.2222222222222222,
             "#7201a8"
            ],
            [
             0.3333333333333333,
             "#9c179e"
            ],
            [
             0.4444444444444444,
             "#bd3786"
            ],
            [
             0.5555555555555556,
             "#d8576b"
            ],
            [
             0.6666666666666666,
             "#ed7953"
            ],
            [
             0.7777777777777778,
             "#fb9f3a"
            ],
            [
             0.8888888888888888,
             "#fdca26"
            ],
            [
             1,
             "#f0f921"
            ]
           ]
          },
          "colorway": [
           "#636efa",
           "#EF553B",
           "#00cc96",
           "#ab63fa",
           "#FFA15A",
           "#19d3f3",
           "#FF6692",
           "#B6E880",
           "#FF97FF",
           "#FECB52"
          ],
          "font": {
           "color": "#2a3f5f"
          },
          "geo": {
           "bgcolor": "white",
           "lakecolor": "white",
           "landcolor": "#E5ECF6",
           "showlakes": true,
           "showland": true,
           "subunitcolor": "white"
          },
          "hoverlabel": {
           "align": "left"
          },
          "hovermode": "closest",
          "mapbox": {
           "style": "light"
          },
          "paper_bgcolor": "white",
          "plot_bgcolor": "#E5ECF6",
          "polar": {
           "angularaxis": {
            "gridcolor": "white",
            "linecolor": "white",
            "ticks": ""
           },
           "bgcolor": "#E5ECF6",
           "radialaxis": {
            "gridcolor": "white",
            "linecolor": "white",
            "ticks": ""
           }
          },
          "scene": {
           "xaxis": {
            "backgroundcolor": "#E5ECF6",
            "gridcolor": "white",
            "gridwidth": 2,
            "linecolor": "white",
            "showbackground": true,
            "ticks": "",
            "zerolinecolor": "white"
           },
           "yaxis": {
            "backgroundcolor": "#E5ECF6",
            "gridcolor": "white",
            "gridwidth": 2,
            "linecolor": "white",
            "showbackground": true,
            "ticks": "",
            "zerolinecolor": "white"
           },
           "zaxis": {
            "backgroundcolor": "#E5ECF6",
            "gridcolor": "white",
            "gridwidth": 2,
            "linecolor": "white",
            "showbackground": true,
            "ticks": "",
            "zerolinecolor": "white"
           }
          },
          "shapedefaults": {
           "line": {
            "color": "#2a3f5f"
           }
          },
          "ternary": {
           "aaxis": {
            "gridcolor": "white",
            "linecolor": "white",
            "ticks": ""
           },
           "baxis": {
            "gridcolor": "white",
            "linecolor": "white",
            "ticks": ""
           },
           "bgcolor": "#E5ECF6",
           "caxis": {
            "gridcolor": "white",
            "linecolor": "white",
            "ticks": ""
           }
          },
          "title": {
           "x": 0.05
          },
          "xaxis": {
           "automargin": true,
           "gridcolor": "white",
           "linecolor": "white",
           "ticks": "",
           "title": {
            "standoff": 15
           },
           "zerolinecolor": "white",
           "zerolinewidth": 2
          },
          "yaxis": {
           "automargin": true,
           "gridcolor": "white",
           "linecolor": "white",
           "ticks": "",
           "title": {
            "standoff": 15
           },
           "zerolinecolor": "white",
           "zerolinewidth": 2
          }
         }
        }
       }
      }
     },
     "metadata": {},
     "output_type": "display_data"
    }
   ],
   "source": [
    "# plot the triangle plane and the projected point in plotly\n",
    "\n",
    "# generate a triangle in 3d with random coordinates\n",
    "triangle = np.random.rand(3, 3)\n",
    "point = np.array([0.25, 0.25, 0.5])\n",
    "\n",
    "# project the point on the triangle plane\n",
    "pp = project_point_to_mesh(point, triangle)\n",
    "pp2 = project_point_to_mesh2(point, triangle)\n",
    "ppp = project_point_to_mesh(pp, triangle)\n",
    "\n",
    "# plot the triangle plane\n",
    "fig = go.Figure(data=[go.Mesh3d(x=triangle[:, 0], y=triangle[:, 1], z=triangle[:, 2], color='cyan', opacity=0.50)])\n",
    "fig.add_trace(go.Scatter3d(x=[point[0]], y=[point[1]], z=[point[2]], mode='markers', name = \"Original\", marker=dict(color='red', size=10)))\n",
    "fig.add_trace(go.Scatter3d(x=[pp[0]], y=[pp[1]], z=[pp[2]], mode='markers', name = \"Projection 1\", marker=dict(color='green', size=10)))\n",
    "fig.add_trace(go.Scatter3d(x=[pp2[0]], y=[pp2[1]], z=[pp2[2]], mode='markers', name = \"Projection 2\", marker=dict(color='yellow', size=10)))\n",
    "fig.show()\n"
   ]
  }
 ],
 "metadata": {
  "kernelspec": {
   "display_name": "Python 3 (ipykernel)",
   "language": "python",
   "name": "python3"
  },
  "language_info": {
   "codemirror_mode": {
    "name": "ipython",
    "version": 3
   },
   "file_extension": ".py",
   "mimetype": "text/x-python",
   "name": "python",
   "nbconvert_exporter": "python",
   "pygments_lexer": "ipython3",
   "version": "3.10.11"
  },
  "vscode": {
   "interpreter": {
    "hash": "c97799627727637036a080eba12c79a9fe3032f00b0b84b09ea9bc13ff4fdd25"
   }
  }
 },
 "nbformat": 4,
 "nbformat_minor": 2
}
