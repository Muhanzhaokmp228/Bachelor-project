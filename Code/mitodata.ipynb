{
 "cells": [
  {
   "cell_type": "code",
   "execution_count": 1,
   "metadata": {},
   "outputs": [],
   "source": [
    "import numpy as np\n",
    "import csv\n",
    "import igl\n",
    "import math\n",
    "import matplotlib.pyplot as plt\n",
    "import mpl_toolkits.mplot3d\n",
    "import os\n",
    "import plotly.graph_objects as go\n",
    "from scipy.io import loadmat \n",
    "from scipy.stats import t"
   ]
  },
  {
   "cell_type": "code",
   "execution_count": 2,
   "metadata": {},
   "outputs": [],
   "source": [
    "def readmitodata(fname):\n",
    "    \"\"\"\n",
    "    Expect a filename of the form \"mito_data???.mat\" \n",
    "    where ??? is the mito number (left padded by 0 is necessary).\n",
    "    \n",
    "    argument:\n",
    "    fname -- string, filename of the mito data\n",
    "    \n",
    "    returns:\n",
    "    mito_dict -- dictionary, keys are the names of the variables in the matlab file\n",
    "    The keys are:\n",
    "    'mito' -- the mitochondrion binary shaoe (np.ndarray, has been padded with zeros)\n",
    "    'vertices' -- the vertices of the meshed mitochondrion (np.ndarray)  \n",
    "    'faces' -- the faces of the meshed mitochondrion (np.ndarray)\n",
    "    'cristae_junctions' -- the vertices of the cristae junctions (np.ndarray) or empty list if none\n",
    "    'min_coords' -- the minimum coordinates of the mitochondrion (np.ndarray) in the original volume    \n",
    "    'mito_number' -- the number of the mitochondrion (int) from the cc3d.component_labeling function,\n",
    "                        this is the same as the number in the filename\n",
    "    \n",
    "    \"\"\"\n",
    "    mito_dict = loadmat(fname)\n",
    "    # remove matlab meta data\n",
    "    del mito_dict['__header__']\n",
    "    del mito_dict['__version__']\n",
    "    del mito_dict['__globals__']\n",
    "    mito_dict['mito_number'] = int(mito_dict['mito_number'])\n",
    "    # inverted results in matlab....\n",
    "    mito_dict['vertices'], mito_dict['faces'] = mito_dict['faces'], mito_dict['vertices']\n",
    "    # count starts at 0\n",
    "    mito_dict['faces'] -= 1\n",
    "    return mito_dict"
   ]
  },
  {
   "cell_type": "code",
   "execution_count": 3,
   "metadata": {},
   "outputs": [],
   "source": [
    "# Calculating the surface area of the mesh\n",
    "def mesh_area(vecs, faces):\n",
    "    double_areas = igl.doublearea(vecs, faces)\n",
    "    surface_area = np.sum(double_areas) / 2.0\n",
    "    return surface_area\n",
    "\n",
    "# Ripley's K function for mesh\n",
    "def ripleyK_mesh(area, dists, radii):\n",
    "    K = np.zeros_like(radii)\n",
    "    intensity = len(dists) / area\n",
    "    for i in range(len(radii)):\n",
    "        K[i] = np.sum(dists < radii[i])\n",
    "    K = K/intensity\n",
    "    return K, intensity"
   ]
  },
  {
   "cell_type": "code",
   "execution_count": 4,
   "metadata": {},
   "outputs": [],
   "source": [
    "current_dir = os.getcwd()\n",
    "mito_path = os.path.join(current_dir, \"mito_data\")\n",
    "\n",
    "area_list = []\n",
    "for file_name in os.listdir(mito_path):\n",
    "    if file_name.endswith(\".mat\"):\n",
    "        file_path = os.path.join(mito_path, file_name)\n",
    "        mito = readmitodata(file_path)\n",
    "        vertices = np.array(mito['vertices'], dtype=np.float64)\n",
    "        faces = np.array(mito['faces'], dtype=np.int32)\n",
    "        mito_number = mito['mito_number']\n",
    "        area = mesh_area(vertices, faces)\n",
    "        # print(\"Mito number: \", mito_number, \"Area: \", area)\n",
    "        data = (mito_number, area)\n",
    "        area_list.append(data)      \n",
    "\n",
    "np.savetxt(\"mito_area.csv\", area_list, delimiter=\",\", header='Mito_number, Area of Mitochondria')"
   ]
  },
  {
   "cell_type": "code",
   "execution_count": 5,
   "metadata": {},
   "outputs": [],
   "source": [
    "# file_path = os.path.join(current_dir, \"mito_area.csv\")\n",
    "# with open(file_path, 'r') as file:\n",
    "#     csvreader = csv.reader(file)\n",
    "#     area_list = []\n",
    "#     for row in csvreader:\n",
    "#         area_list.append(row)\n",
    "#     area_list = np.array(area_list[1:])"
   ]
  },
  {
   "cell_type": "code",
   "execution_count": 6,
   "metadata": {},
   "outputs": [],
   "source": [
    "# data_dir = os.path.join(current_dir, \"mito_dists\")\n",
    "\n",
    "# for file_name in os.listdir(data_dir):\n",
    "#     if file_name.endswith(\".csv\"):\n",
    "#         file_path = os.path.join(data_dir, file_name)\n",
    "#         mito_number = os.path.splitext(file_name)[0][-3:] # get the mito number\n",
    "#         for a in area_list:\n",
    "#             if a[0] == int(mito_number):\n",
    "#                 area = a[1]\n",
    "#         print(\"Mito number: \", mito_number, \"Area: \", area)"
   ]
  },
  {
   "cell_type": "code",
   "execution_count": 3,
   "metadata": {},
   "outputs": [],
   "source": [
    "current_dir = os.getcwd()\n",
    "data_dir = os.path.join(current_dir, \"mito_dists\")\n",
    "result_dir = os.path.join(current_dir, \"mito_result\")"
   ]
  },
  {
   "cell_type": "code",
   "execution_count": 8,
   "metadata": {},
   "outputs": [],
   "source": [
    "intensities = []\n",
    "\n",
    "for file_name in os.listdir(data_dir):\n",
    "    if file_name.endswith(\".csv\"):\n",
    "        file_path = os.path.join(data_dir, file_name)\n",
    "        with open(file_path, 'r') as file:\n",
    "            mito_number = os.path.splitext(file_name)[0][-3:] # get the mito number\n",
    "            for a in area_list:\n",
    "                if a[0] == int(mito_number):\n",
    "                    area = a[1]\n",
    "            # print(\"Mito number: \", mito_number, \"Area: \", area)\n",
    "            csvreader = csv.reader(file)\n",
    "            dists = []\n",
    "            for row in csvreader:\n",
    "                dists.append(row)\n",
    "            dists = np.array(dists[1:], dtype=np.float64)\n",
    "            rmax = np.max(dists)\n",
    "            radii = np.linspace(0, rmax+rmax/10, 50)\n",
    "            kt_mito, intensity = ripleyK_mesh(area, dists, radii)\n",
    "            intensities.append(intensity)\n",
    "            data = np.column_stack((radii, kt_mito))\n",
    "            result_path = os.path.join(result_dir, \"mito_result\" + mito_number + \".csv\")\n",
    "            np.savetxt(result_path, data, delimiter=\",\", header='Radii, Kt')"
   ]
  },
  {
   "cell_type": "code",
   "execution_count": 4,
   "metadata": {},
   "outputs": [
    {
     "name": "stdout",
     "output_type": "stream",
     "text": [
      "(280, 50)\n"
     ]
    }
   ],
   "source": [
    "combined_data = []\n",
    "\n",
    "for file_name in os.listdir(result_dir):\n",
    "    if file_name.endswith(\".csv\"):\n",
    "        file_path = os.path.join(result_dir, file_name)\n",
    "        with open(file_path, 'r') as file:\n",
    "            mito_number = os.path.splitext(file_name)[0][-3:] # get the mito number\n",
    "            csvreader = csv.reader(file)\n",
    "            data = []\n",
    "            for row in csvreader:\n",
    "                data.append(row)\n",
    "            data = np.array(data[1:], dtype=np.float64)  # Convert data to float\n",
    "            radii = data[:, 0]\n",
    "            kt_mito = data[:, 1]\n",
    "\n",
    "            # normalize radii to pi\n",
    "            radii_normalized = np.pi * (radii - np.min(radii)) / (np.max(radii) - np.min(radii))\n",
    "            # print(mito_number, radii_normalized)\n",
    "\n",
    "            if len (combined_data) == 0:\n",
    "                combined_data.append(radii_normalized)\n",
    "            combined_data.append(kt_mito)\n",
    "\n",
    "combined_data = np.array(combined_data)\n",
    "print(combined_data.shape)"
   ]
  },
  {
   "cell_type": "code",
   "execution_count": 5,
   "metadata": {},
   "outputs": [],
   "source": [
    "kt_all = combined_data[1:]\n",
    "\n",
    "radii_normalized = combined_data[0]\n",
    "kt_mean = np.mean(kt_all, axis=0)"
   ]
  },
  {
   "cell_type": "code",
   "execution_count": 6,
   "metadata": {},
   "outputs": [
    {
     "name": "stdout",
     "output_type": "stream",
     "text": [
      "(280, 50)\n"
     ]
    }
   ],
   "source": [
    "uniform_dir = os.path.join(current_dir, \"mito_uni\")\n",
    "combined_uniform = []\n",
    "\n",
    "for file_name in os.listdir(uniform_dir):\n",
    "    if file_name.endswith(\".csv\"):\n",
    "        file_path = os.path.join(uniform_dir, file_name)\n",
    "        with open(file_path, 'r') as file:\n",
    "            mito_number = os.path.splitext(file_name)[0][-3:] # get the mito number\n",
    "            csvreader = csv.reader(file)\n",
    "            data = []\n",
    "            for row in csvreader:\n",
    "                data.append(row)\n",
    "            data = np.array(data[1:], dtype=np.float64)  # Convert data to float\n",
    "            radii = data[:, 0]\n",
    "            kt_mito = data[:, 1]\n",
    "\n",
    "            # normalize radii to pi\n",
    "            radii_normalized = np.pi * (radii - np.min(radii)) / (np.max(radii) - np.min(radii))\n",
    "            # print(mito_number, radii_normalized)\n",
    "\n",
    "            if len (combined_uniform) == 0:\n",
    "                combined_uniform.append(radii_normalized)\n",
    "            combined_uniform.append(kt_mito)\n",
    "\n",
    "combined_uniform = np.array(combined_uniform)\n",
    "print(combined_uniform.shape)"
   ]
  },
  {
   "cell_type": "code",
   "execution_count": 10,
   "metadata": {},
   "outputs": [],
   "source": [
    "kt_uniform = combined_uniform[1:]\n",
    "radii_normalized = combined_uniform[0]\n",
    "\n",
    "kt_uniform_mean = np.mean(kt_uniform, axis=0)"
   ]
  },
  {
   "cell_type": "code",
   "execution_count": 7,
   "metadata": {},
   "outputs": [],
   "source": [
    "alpha = 0.05\n",
    "\n",
    "se = np.std(kt_all, axis=0) / np.sqrt(len(kt_all))\n",
    "\n",
    "df = len(kt_all) - 1\n",
    "critical_value = t.ppf(1 - alpha / 2, df)\n",
    "\n",
    "lower_bound = kt_mean - critical_value * se\n",
    "upper_bound = kt_mean + critical_value * se"
   ]
  },
  {
   "cell_type": "code",
   "execution_count": 11,
   "metadata": {},
   "outputs": [
    {
     "data": {
      "image/png": "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