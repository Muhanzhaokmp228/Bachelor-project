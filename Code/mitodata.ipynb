{
 "cells": [
  {
   "cell_type": "code",
   "execution_count": 2,
   "metadata": {},
   "outputs": [],
   "source": [
    "import numpy as np\n",
    "import csv\n",
    "import igl\n",
    "import math\n",
    "import matplotlib.pyplot as plt\n",
    "import mpl_toolkits.mplot3d\n",
    "import os\n",
    "import plotly.graph_objects as go\n",
    "from scipy.io import loadmat \n",
    "from scipy.stats import t"
   ]
  },
  {
   "cell_type": "code",
   "execution_count": 3,
   "metadata": {},
   "outputs": [],
   "source": [
    "def readmitodata(fname):\n",
    "    \"\"\"\n",
    "    Expect a filename of the form \"mito_data???.mat\" \n",
    "    where ??? is the mito number (left padded by 0 is necessary).\n",
    "    \n",
    "    argument:\n",
    "    fname -- string, filename of the mito data\n",
    "    \n",
    "    returns:\n",
    "    mito_dict -- dictionary, keys are the names of the variables in the matlab file\n",
    "    The keys are:\n",
    "    'mito' -- the mitochondrion binary shaoe (np.ndarray, has been padded with zeros)\n",
    "    'vertices' -- the vertices of the meshed mitochondrion (np.ndarray)  \n",
    "    'faces' -- the faces of the meshed mitochondrion (np.ndarray)\n",
    "    'cristae_junctions' -- the vertices of the cristae junctions (np.ndarray) or empty list if none\n",
    "    'min_coords' -- the minimum coordinates of the mitochondrion (np.ndarray) in the original volume    \n",
    "    'mito_number' -- the number of the mitochondrion (int) from the cc3d.component_labeling function,\n",
    "                        this is the same as the number in the filename\n",
    "    \n",
    "    \"\"\"\n",
    "    mito_dict = loadmat(fname)\n",
    "    # remove matlab meta data\n",
    "    del mito_dict['__header__']\n",
    "    del mito_dict['__version__']\n",
    "    del mito_dict['__globals__']\n",
    "    mito_dict['mito_number'] = int(mito_dict['mito_number'])\n",
    "    # inverted results in matlab....\n",
    "    mito_dict['vertices'], mito_dict['faces'] = mito_dict['faces'], mito_dict['vertices']\n",
    "    # count starts at 0\n",
    "    mito_dict['faces'] -= 1\n",
    "    return mito_dict"
   ]
  },
  {
   "cell_type": "code",
   "execution_count": 4,
   "metadata": {},
   "outputs": [],
   "source": [
    "# Calculating the surface area of the mesh\n",
    "def mesh_area(vecs, faces):\n",
    "    double_areas = igl.doublearea(vecs, faces)\n",
    "    surface_area = np.sum(double_areas) / 2.0\n",
    "    return surface_area\n",
    "\n",
    "# Ripley's K function for mesh\n",
    "def ripleyK_mesh(area, dists, radii):\n",
    "    K = np.zeros_like(radii)\n",
    "    intensity = len(dists) / area\n",
    "    for i in range(len(radii)):\n",
    "        K[i] = np.sum(dists < radii[i])\n",
    "    K = K/intensity\n",
    "    return K, intensity"
   ]
  },
  {
   "cell_type": "code",
   "execution_count": 5,
   "metadata": {},
   "outputs": [],
   "source": [
    "current_dir = os.getcwd()\n",
    "mito_path = os.path.join(current_dir, \"mito_data\")\n",
    "\n",
    "area_list = []\n",
    "for file_name in os.listdir(mito_path):\n",
    "    if file_name.endswith(\".mat\"):\n",
    "        file_path = os.path.join(mito_path, file_name)\n",
    "        mito = readmitodata(file_path)\n",
    "        vertices = np.array(mito['vertices'], dtype=np.float64)\n",
    "        faces = np.array(mito['faces'], dtype=np.int32)\n",
    "        mito_number = mito['mito_number']\n",
    "        area = mesh_area(vertices, faces)\n",
    "        # print(\"Mito number: \", mito_number, \"Area: \", area)\n",
    "        data = (mito_number, area)\n",
    "        area_list.append(data)      \n",
    "\n",
    "np.savetxt(\"mito_area.csv\", area_list, delimiter=\",\", header='Mito_number, Area of Mitochondria')"
   ]
  },
  {
   "cell_type": "code",
   "execution_count": 6,
   "metadata": {},
   "outputs": [],
   "source": [
    "# file_path = os.path.join(current_dir, \"mito_area.csv\")\n",
    "# with open(file_path, 'r') as file:\n",
    "#     csvreader = csv.reader(file)\n",
    "#     area_list = []\n",
    "#     for row in csvreader:\n",
    "#         area_list.append(row)\n",
    "#     area_list = np.array(area_list[1:])"
   ]
  },
  {
   "cell_type": "code",
   "execution_count": 7,
   "metadata": {},
   "outputs": [],
   "source": [
    "# data_dir = os.path.join(current_dir, \"mito_dists\")\n",
    "\n",
    "# for file_name in os.listdir(data_dir):\n",
    "#     if file_name.endswith(\".csv\"):\n",
    "#         file_path = os.path.join(data_dir, file_name)\n",
    "#         mito_number = os.path.splitext(file_name)[0][-3:] # get the mito number\n",
    "#         for a in area_list:\n",
    "#             if a[0] == int(mito_number):\n",
    "#                 area = a[1]\n",
    "#         print(\"Mito number: \", mito_number, \"Area: \", area)"
   ]
  },
  {
   "cell_type": "code",
   "execution_count": 8,
   "metadata": {},
   "outputs": [],
   "source": [
    "current_dir = os.getcwd()\n",
    "data_dir = os.path.join(current_dir, \"mito_dists\")\n",
    "result_dir = os.path.join(current_dir, \"mito_result\")"
   ]
  },
  {
   "cell_type": "code",
   "execution_count": 9,
   "metadata": {},
   "outputs": [],
   "source": [
    "intensities = []\n",
    "\n",
    "for file_name in os.listdir(data_dir):\n",
    "    if file_name.endswith(\".csv\"):\n",
    "        file_path = os.path.join(data_dir, file_name)\n",
    "        with open(file_path, 'r') as file:\n",
    "            mito_number = os.path.splitext(file_name)[0][-3:] # get the mito number\n",
    "            for a in area_list:\n",
    "                if a[0] == int(mito_number):\n",
    "                    area = a[1]\n",
    "            # print(\"Mito number: \", mito_number, \"Area: \", area)\n",
    "            csvreader = csv.reader(file)\n",
    "            dists = []\n",
    "            for row in csvreader:\n",
    "                dists.append(row)\n",
    "            dists = np.array(dists[1:], dtype=np.float64)\n",
    "            rmax = np.max(dists)\n",
    "            radii = np.linspace(0, rmax+rmax/10, 50)\n",
    "            kt_mito, intensity = ripleyK_mesh(area, dists, radii)\n",
    "            intensities.append(intensity)\n",
    "            data = np.column_stack((radii, kt_mito))\n",
    "            result_path = os.path.join(result_dir, \"mito_result\" + mito_number + \".csv\")\n",
    "            np.savetxt(result_path, data, delimiter=\",\", header='Radii, Kt')"
   ]
  },
  {
   "cell_type": "code",
   "execution_count": 10,
   "metadata": {},
   "outputs": [
    {
     "name": "stdout",
     "output_type": "stream",
     "text": [
      "(280, 50)\n"
     ]
    }
   ],
   "source": [
    "combined_data = []\n",
    "\n",
    "for file_name in os.listdir(result_dir):\n",
    "    if file_name.endswith(\".csv\"):\n",
    "        file_path = os.path.join(result_dir, file_name)\n",
    "        with open(file_path, 'r') as file:\n",
    "            mito_number = os.path.splitext(file_name)[0][-3:] # get the mito number\n",
    "            csvreader = csv.reader(file)\n",
    "            data = []\n",
    "            for row in csvreader:\n",
    "                data.append(row)\n",
    "            data = np.array(data[1:], dtype=np.float64)  # Convert data to float\n",
    "            radii = data[:, 0]\n",
    "            kt_mito = data[:, 1]\n",
    "\n",
    "            # normalize radii to pi\n",
    "            radii_normalized = np.pi * (radii - np.min(radii)) / (np.max(radii) - np.min(radii))\n",
    "            # print(mito_number, radii_normalized)\n",
    "\n",
    "            if len (combined_data) == 0:\n",
    "                combined_data.append(radii_normalized)\n",
    "            combined_data.append(kt_mito)\n",
    "\n",
    "combined_data = np.array(combined_data)\n",
    "print(combined_data.shape)"
   ]
  },
  {
   "cell_type": "code",
   "execution_count": 11,
   "metadata": {},
   "outputs": [],
   "source": [
    "kt_all = combined_data[1:]\n",
    "\n",
    "radii_normalized = combined_data[0]\n",
    "kt_mean = np.mean(kt_all, axis=0)"
   ]
  },
  {
   "cell_type": "code",
   "execution_count": 12,
   "metadata": {},
   "outputs": [],
   "source": [
    "alpha = 0.05\n",
    "\n",
    "se = np.std(kt_all, axis=0) / np.sqrt(len(kt_all))\n",
    "\n",
    "df = len(kt_all) - 1\n",
    "critical_value = t.ppf(1 - alpha / 2, df)\n",
    "\n",
    "lower_bound = kt_mean - critical_value * se\n",
    "upper_bound = kt_mean + critical_value * se"
   ]
  },
  {
   "cell_type": "code",
   "execution_count": 13,
   "metadata": {},
   "outputs": [
    {
     "data": {
      "image/png": "[encoded data removed]",
      "text/plain": [
       "<Figure size 640x480 with 1 Axes>"
      ]
     },
     "metadata": {},
     "output_type": "display_data"
    }
   ],
   "source": [
    "plt.plot(radii_normalized, kt_mean, color='blue', label='Mean Ripley-K value for \\nall crista junction with 95% CI')\n",
    "plt.fill_between(radii_normalized, lower_bound, upper_bound, alpha=0.2)\n",
    "plt.xlabel(\"Radius\")\n",
    "plt.ylabel(\"Kt\")\n",
    "plt.legend(loc='upper left')\n",
    "plt.savefig(\"kt_mito_mean.png\")\n",
    "plt.show()"
   ]
  }
 ],
 "metadata": {
  "kernelspec": {
   "display_name": "Python 3",
   "language": "python",
   "name": "python3"
  },
  "language_info": {
   "codemirror_mode": {
    "name": "ipython",
    "version": 3
   },
   "file_extension": ".py",
   "mimetype": "text/x-python",
   "name": "python",
   "nbconvert_exporter": "python",
   "pygments_lexer": "ipython3",
   "version": "3.10.11"
  },
  "orig_nbformat": 4
 },
 "nbformat": 4,
 "nbformat_minor": 2
}
