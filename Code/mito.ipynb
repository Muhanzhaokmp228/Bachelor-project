{
 "cells": [
  {
   "cell_type": "code",
   "execution_count": 15,
   "metadata": {},
   "outputs": [],
   "source": [
    "import numpy as np\n",
    "import csv\n",
    "import igl\n",
    "import math\n",
    "import ripleyK as rk\n",
    "import ripleyKtest as rkt\n",
    "import matplotlib.pyplot as plt\n",
    "import mpl_toolkits.mplot3d\n",
    "from scipy.io import loadmat \n",
    "import os\n",
    "import geopandas as gpd\n",
    "import plotly.graph_objects as go"
   ]
  },
  {
   "cell_type": "code",
   "execution_count": 16,
   "metadata": {},
   "outputs": [],
   "source": [
    "def readmitodata(fname):\n",
    "    \"\"\"\n",
    "    Expect a filename of the form \"mito_data???.mat\" \n",
    "    where ??? is the mito number (left padded by 0 is necessary).\n",
    "    \n",
    "    argument:\n",
    "    fname -- string, filename of the mito data\n",
    "    \n",
    "    returns:\n",
    "    mito_dict -- dictionary, keys are the names of the variables in the matlab file\n",
    "    The keys are:\n",
    "    'mito' -- the mitochondrion binary shaoe (np.ndarray, has been padded with zeros)\n",
    "    'vertices' -- the vertices of the meshed mitochondrion (np.ndarray)  \n",
    "    'faces' -- the faces of the meshed mitochondrion (np.ndarray)\n",
    "    'cristae_junctions' -- the vertices of the cristae junctions (np.ndarray) or empty list if none\n",
    "    'min_coords' -- the minimum coordinates of the mitochondrion (np.ndarray) in the original volume    \n",
    "    'mito_number' -- the number of the mitochondrion (int) from the cc3d.component_labeling function,\n",
    "                        this is the same as the number in the filename\n",
    "    \n",
    "    \"\"\"\n",
    "    mito_dict = loadmat(fname)\n",
    "    # remove matlab meta data\n",
    "    del mito_dict['__header__']\n",
    "    del mito_dict['__version__']\n",
    "    del mito_dict['__globals__']\n",
    "    mito_dict['mito_number'] = int(mito_dict['mito_number'])\n",
    "    # inverted results in matlab....\n",
    "    mito_dict['vertices'], mito_dict['faces'] = mito_dict['faces'], mito_dict['vertices']\n",
    "    # count starts at 0\n",
    "    mito_dict['faces'] -= 1\n",
    "    return mito_dict"
   ]
  },
  {
   "cell_type": "code",
   "execution_count": 17,
   "metadata": {},
   "outputs": [],
   "source": [
    "current_dir = os.getcwd()\n",
    "folder_path = os.path.join(current_dir, \"mito_data\")\n",
    "path = os.path.join(folder_path, \"mito_data007.mat\")\n",
    "mito = readmitodata(path)  "
   ]
  },
  {
   "cell_type": "code",
   "execution_count": 18,
   "metadata": {},
   "outputs": [
    {
     "name": "stdout",
     "output_type": "stream",
     "text": [
      "dict_keys(['cristae_junction', 'faces', 'min_coords', 'mito', 'mito_number', 'vertices'])\n",
      "(3, 15)\n",
      "(27832, 3)\n",
      "(55660, 3)\n",
      "1.505 114.495\n",
      "0 27831\n"
     ]
    }
   ],
   "source": [
    "print(mito.keys())\n",
    "vertices = np.array(mito['vertices'], dtype=np.float64)\n",
    "faces = np.array(mito['faces'], dtype=np.int32)\n",
    "cj = np.array(mito['cristae_junction'], dtype=np.float64)\n",
    "\n",
    "points = cj.T\n",
    "print(cj.shape)\n",
    "print(vertices.shape)\n",
    "print(faces.shape)\n",
    "\n",
    "print(vertices.min(), vertices.max())\n",
    "print(faces.min(), faces.max())"
   ]
  },
  {
   "cell_type": "code",
   "execution_count": 19,
   "metadata": {},
   "outputs": [],
   "source": [
    "# points = cj.T\n",
    "\n",
    "# x, y, z = vertices.T\n",
    "# i, j, k = faces.T\n",
    "\n",
    "# mesh = go.Mesh3d(x=x, y=y, z=z, i=i, j=j, k=k, color='lightpink', opacity=0.50)\n",
    "# fig = go.Figure(data=[mesh])\n",
    "# fig.add_trace(go.Scatter3d(x=points[:,0], y=points[:,1], z=points[:,2], mode='markers', marker=dict(size=10, color='blue')))\n",
    "# fig.show()"
   ]
  },
  {
   "cell_type": "code",
   "execution_count": 20,
   "metadata": {},
   "outputs": [],
   "source": [
    "#  Computes signed distance to a mesh\n",
    "\n",
    "#  Inputs:\n",
    "#    P  #P by 3 list of query point positions\n",
    "#    V  #V by 3 list of vertex positions\n",
    "#    F  #F by ss list of triangle indices, ss should be 3 unless sign_type ==\n",
    "#      SIGNED_DISTANCE_TYPE_UNSIGNED\n",
    "#    sign_type  method for computing distance _sign_ S\n",
    "#    lower_bound  lower bound of distances needed {std::numeric_limits::min}\n",
    "#    upper_bound  lower bound of distances needed {std::numeric_limits::max}\n",
    "#  Outputs:\n",
    "#    S  #P list of smallest signed distances\n",
    "#    I  #P list of facet indices corresponding to smallest distances\n",
    "#    C  #P by 3 list of closest points\n",
    "#    N  #P by 3 list of closest normals (only set if\n",
    "#      sign_type=SIGNED_DISTANCE_TYPE_PSEUDONORMAL)\n",
    "\n",
    "# if points != []:\n",
    "    # signed_dist = igl.signed_distance(points, vertices, faces)\n",
    "    # print(signed_dist)"
   ]
  },
  {
   "cell_type": "code",
   "execution_count": 21,
   "metadata": {},
   "outputs": [
    {
     "data": {
      "image/png": "[encoded data removed]",
      "text/plain": [
       "<Figure size 432x288 with 1 Axes>"
      ]
     },
     "metadata": {
      "needs_background": "light"
     },
     "output_type": "display_data"
    }
   ],
   "source": [
    "rmax = math.sqrt(rk.mesh_area(vertices, faces) / 2)\n",
    "radii = np.linspace(0, rmax, 50)\n",
    "\n",
    "if cj.size:\n",
    "    kt_mito = rk.ripleyK_mesh(vertices, faces, points, radii)\n",
    "    # kt_mito = rkt.ripleyK_mesh(vertices, faces, points, radii)\n",
    "    data = np.column_stack((radii, kt_mito))\n",
    "    np.savetxt(\"kt_mito.csv\", data, delimiter=\",\", header='radii,kt_mito')\n",
    "else:\n",
    "    print(\"No cristae junctions found\")\n",
    "\n",
    "plt.plot(radii, kt_mito, label='Whale_mesh')\n",
    "plt.xlabel('Radius')\n",
    "plt.ylabel('K')\n",
    "plt.legend()\n",
    "plt.show()\n",
    "\n"
   ]
  },
  {
   "cell_type": "code",
   "execution_count": 22,
   "metadata": {},
   "outputs": [
    {
     "name": "stdout",
     "output_type": "stream",
     "text": [
      "No cristae junctions found\n",
      "mito_data283.mat\n",
      "mito_data283.mat result saved\n",
      "No cristae junctions found\n",
      "No cristae junctions found\n",
      "mito_data064.mat\n",
      "mito_data064.mat result saved\n",
      "mito_data464.mat\n"
     ]
    }
   ],
   "source": [
    "current_dir = os.getcwd()\n",
    "data_dir = os.path.join(current_dir, \"mito_data\")\n",
    "result_dir = os.path.join(current_dir, \"mito_result\")\n",
    "\n",
    "for file_name in os.listdir(data_dir):\n",
    "    if file_name.endswith(\".mat\"):\n",
    "        file_path = os.path.join(data_dir, file_name)\n",
    "        mito = readmitodata(file_path)\n",
    "        vertices = np.array(mito['vertices'], dtype=np.float64)\n",
    "        faces = np.array(mito['faces'], dtype=np.int32)\n",
    "        cj = np.array(mito['cristae_junction'], dtype=np.float64)\n",
    "        points = cj.T\n",
    "        rmax = math.sqrt(rk.mesh_area(vertices, faces) / 2)\n",
    "        radii = np.linspace(0, rmax, 50)\n",
    "        if cj.size:\n",
    "            print(file_name)\n",
    "            kt_mito = rk.ripleyK_mesh(vertices, faces, points, radii)\n",
    "            data = np.column_stack((radii, kt_mito))\n",
    "            result_path = os.path.join(result_dir, os.path.splitext(file_name)[0] + \".csv\")\n",
    "            np.savetxt(result_path, data, delimiter=\",\", header='radii,kt_mito')\n",
    "            print(file_name + \" result saved\")\n",
    "        else:\n",
    "            print(\"No cristae junctions found\")"
   ]
  }
 ],
 "metadata": {
  "kernelspec": {
   "display_name": "Python 3",
   "language": "python",
   "name": "python3"
  },
  "language_info": {
   "codemirror_mode": {
    "name": "ipython",
    "version": 3
   },
   "file_extension": ".py",
   "mimetype": "text/x-python",
   "name": "python",
   "nbconvert_exporter": "python",
   "pygments_lexer": "ipython3",
   "version": "3.9.7"
  },
  "orig_nbformat": 4
 },
 "nbformat": 4,
 "nbformat_minor": 2
}
