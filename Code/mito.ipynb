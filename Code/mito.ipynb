{
 "cells": [
  {
   "cell_type": "code",
   "execution_count": 9,
   "metadata": {},
   "outputs": [],
   "source": [
    "import numpy as np\n",
    "import csv\n",
    "import igl\n",
    "import math\n",
    "import ripleyK as rk\n",
    "import ripleyKtest as rkt\n",
    "import matplotlib.pyplot as plt\n",
    "import mpl_toolkits.mplot3d\n",
    "from scipy.io import loadmat \n",
    "import os\n",
    "import geopandas as gpd\n",
    "import plotly.graph_objects as go"
   ]
  },
  {
   "cell_type": "code",
   "execution_count": 10,
   "metadata": {},
   "outputs": [],
   "source": [
    "def readmitodata(fname):\n",
    "    \"\"\"\n",
    "    Expect a filename of the form \"mito_data???.mat\" \n",
    "    where ??? is the mito number (left padded by 0 is necessary).\n",
    "    \n",
    "    argument:\n",
    "    fname -- string, filename of the mito data\n",
    "    \n",
    "    returns:\n",
    "    mito_dict -- dictionary, keys are the names of the variables in the matlab file\n",
    "    The keys are:\n",
    "    'mito' -- the mitochondrion binary shaoe (np.ndarray, has been padded with zeros)\n",
    "    'vertices' -- the vertices of the meshed mitochondrion (np.ndarray)  \n",
    "    'faces' -- the faces of the meshed mitochondrion (np.ndarray)\n",
    "    'cristae_junctions' -- the vertices of the cristae junctions (np.ndarray) or empty list if none\n",
    "    'min_coords' -- the minimum coordinates of the mitochondrion (np.ndarray) in the original volume    \n",
    "    'mito_number' -- the number of the mitochondrion (int) from the cc3d.component_labeling function,\n",
    "                        this is the same as the number in the filename\n",
    "    \n",
    "    \"\"\"\n",
    "    mito_dict = loadmat(fname)\n",
    "    # remove matlab meta data\n",
    "    del mito_dict['__header__']\n",
    "    del mito_dict['__version__']\n",
    "    del mito_dict['__globals__']\n",
    "    mito_dict['mito_number'] = int(mito_dict['mito_number'])\n",
    "    # inverted results in matlab....\n",
    "    mito_dict['vertices'], mito_dict['faces'] = mito_dict['faces'], mito_dict['vertices']\n",
    "    # count starts at 0\n",
    "    mito_dict['faces'] -= 1\n",
    "    return mito_dict"
   ]
  },
  {
   "cell_type": "code",
   "execution_count": 11,
   "metadata": {},
   "outputs": [],
   "source": [
    "current_dir = os.getcwd()\n",
    "folder_path = os.path.join(current_dir, \"mito_data\")\n",
    "path = os.path.join(folder_path, \"mito_data002.mat\")\n",
    "mito = readmitodata(path)  "
   ]
  },
  {
   "cell_type": "code",
   "execution_count": 12,
   "metadata": {},
   "outputs": [
    {
     "name": "stdout",
     "output_type": "stream",
     "text": [
      "dict_keys(['cristae_junction', 'faces', 'min_coords', 'mito', 'mito_number', 'vertices'])\n",
      "(3, 6)\n",
      "(5990, 3)\n",
      "(11976, 3)\n",
      "1.505 44.495\n",
      "0 5989\n"
     ]
    }
   ],
   "source": [
    "print(mito.keys())\n",
    "vertices = np.array(mito['vertices'], dtype=np.float64)\n",
    "faces = np.array(mito['faces'], dtype=np.int32)\n",
    "cj = np.array(mito['cristae_junction'], dtype=np.float64)\n",
    "\n",
    "points = cj.T\n",
    "print(cj.shape)\n",
    "print(vertices.shape)\n",
    "print(faces.shape)\n",
    "\n",
    "print(vertices.min(), vertices.max())\n",
    "print(faces.min(), faces.max())"
   ]
  },
  {
   "cell_type": "code",
   "execution_count": 13,
   "metadata": {},
   "outputs": [],
   "source": [
    "# points = cj.T\n",
    "\n",
    "# x, y, z = vertices.T\n",
    "# i, j, k = faces.T\n",
    "\n",
    "# mesh = go.Mesh3d(x=x, y=y, z=z, i=i, j=j, k=k, color='lightpink', opacity=0.50)\n",
    "# fig = go.Figure(data=[mesh])\n",
    "# fig.add_trace(go.Scatter3d(x=points[:,0], y=points[:,1], z=points[:,2], mode='markers', marker=dict(size=10, color='blue')))\n",
    "# fig.show()"
   ]
  },
  {
   "cell_type": "code",
   "execution_count": 14,
   "metadata": {},
   "outputs": [],
   "source": [
    "#  Computes signed distance to a mesh\n",
    "\n",
    "#  Inputs:\n",
    "#    P  #P by 3 list of query point positions\n",
    "#    V  #V by 3 list of vertex positions\n",
    "#    F  #F by ss list of triangle indices, ss should be 3 unless sign_type ==\n",
    "#      SIGNED_DISTANCE_TYPE_UNSIGNED\n",
    "#    sign_type  method for computing distance _sign_ S\n",
    "#    lower_bound  lower bound of distances needed {std::numeric_limits::min}\n",
    "#    upper_bound  lower bound of distances needed {std::numeric_limits::max}\n",
    "#  Outputs:\n",
    "#    S  #P list of smallest signed distances\n",
    "#    I  #P list of facet indices corresponding to smallest distances\n",
    "#    C  #P by 3 list of closest points\n",
    "#    N  #P by 3 list of closest normals (only set if\n",
    "#      sign_type=SIGNED_DISTANCE_TYPE_PSEUDONORMAL)\n",
    "\n",
    "# if points != []:\n",
    "    # signed_dist = igl.signed_distance(points, vertices, faces)\n",
    "    # print(signed_dist)"
   ]
  },
  {
   "cell_type": "code",
   "execution_count": 15,
   "metadata": {},
   "outputs": [
    {
     "name": "stdout",
     "output_type": "stream",
     "text": [
      "samples [[ 4.50166667 16.49833333 16.50166667]\n",
      " [ 1.505      13.         28.        ]\n",
      " [ 8.16833333 21.83166667 18.16833333]\n",
      " [ 7.7525     25.2475     29.        ]\n",
      " [ 7.50166667 26.49833333 31.50166667]\n",
      " [18.165      18.165      37.165     ]]\n"
     ]
    },
    {
     "data": {
      "image/png": "[encoded data removed]",
      "text/plain": [
       "<Figure size 640x480 with 1 Axes>"
      ]
     },
     "metadata": {},
     "output_type": "display_data"
    }
   ],
   "source": [
    "rmax = math.sqrt(rk.mesh_area(vertices, faces) / 2)\n",
    "radii = np.linspace(0, rmax, 50)\n",
    "\n",
    "if cj.size:\n",
    "    kt_mito = rk.ripleyK_mesh(vertices, faces, points, radii)\n",
    "    # kt_mito = rkt.ripleyK_mesh(vertices, faces, points, radii)\n",
    "    data = np.column_stack((radii, kt_mito))\n",
    "    np.savetxt(\"kt_mito.csv\", data, delimiter=\",\", header='radii,kt_mito')\n",
    "else:\n",
    "    print(\"No cristae junctions found\")\n",
    "\n",
    "plt.plot(radii, kt_mito, label='Whale_mesh')\n",
    "plt.xlabel('Radius')\n",
    "plt.ylabel('K')\n",
    "plt.legend()\n",
    "plt.show()\n",
    "\n"
   ]
  },
  {
   "cell_type": "code",
   "execution_count": 16,
   "metadata": {},
   "outputs": [
    {
     "name": "stdout",
     "output_type": "stream",
     "text": [
      "No cristae junctions found\n",
      "mito_data002.mat\n",
      "samples [[ 4.50166667 16.49833333 16.50166667]\n",
      " [ 1.505      13.         28.        ]\n",
      " [ 8.16833333 21.83166667 18.16833333]\n",
      " [ 7.7525     25.2475     29.        ]\n",
      " [ 7.50166667 26.49833333 31.50166667]\n",
      " [18.165      18.165      37.165     ]]\n",
      "mito_data002.mat result saved\n",
      "No cristae junctions found\n",
      "No cristae junctions found\n",
      "mito_data007.mat\n",
      "samples [[ 19.50166667  60.49833333  76.50166667]\n",
      " [ 16.2525      44.          64.2525    ]\n",
      " [ 11.          60.2475      77.7525    ]\n",
      " [ 28.835       46.165       56.835     ]\n",
      " [ 18.          61.7475      78.2525    ]\n",
      " [ 19.2525      33.          62.2525    ]\n",
      " [ 18.59852212  23.83126845  79.        ]\n",
      " [ 23.7525      16.7525      88.        ]\n",
      " [ 25.835       24.835      105.165     ]\n",
      " [ 27.2525      14.2525      76.        ]\n",
      " [ 33.          59.2475      73.7525    ]\n",
      " [ 38.16833333  12.16833333  91.83166667]\n",
      " [ 50.7475      39.         105.7475    ]\n",
      " [ 48.          19.7525     101.2475    ]\n",
      " [ 56.83166667  40.83166667  95.83166667]]\n"
     ]
    },
    {
     "ename": "KeyboardInterrupt",
     "evalue": "",
     "output_type": "error",
     "traceback": [
      "\u001b[1;31m---------------------------------------------------------------------------\u001b[0m",
      "\u001b[1;31mKeyboardInterrupt\u001b[0m                         Traceback (most recent call last)",
      "Cell \u001b[1;32mIn[16], line 17\u001b[0m\n\u001b[0;32m     15\u001b[0m \u001b[39mif\u001b[39;00m cj\u001b[39m.\u001b[39msize:\n\u001b[0;32m     16\u001b[0m     \u001b[39mprint\u001b[39m(file_name)\n\u001b[1;32m---> 17\u001b[0m     kt_mito \u001b[39m=\u001b[39m rk\u001b[39m.\u001b[39;49mripleyK_mesh(vertices, faces, points, radii)\n\u001b[0;32m     18\u001b[0m     data \u001b[39m=\u001b[39m np\u001b[39m.\u001b[39mcolumn_stack((radii, kt_mito))\n\u001b[0;32m     19\u001b[0m     result_path \u001b[39m=\u001b[39m os\u001b[39m.\u001b[39mpath\u001b[39m.\u001b[39mjoin(result_dir, os\u001b[39m.\u001b[39mpath\u001b[39m.\u001b[39msplitext(file_name)[\u001b[39m0\u001b[39m] \u001b[39m+\u001b[39m \u001b[39m\"\u001b[39m\u001b[39m.csv\u001b[39m\u001b[39m\"\u001b[39m)\n",
      "File \u001b[1;32mc:\\Users\\muhan\\Documents\\Datalogi\\bachelor\\Bachelor-project\\Code\\ripleyK.py:114\u001b[0m, in \u001b[0;36mripleyK_mesh\u001b[1;34m(vecs, faces, data, radii)\u001b[0m\n\u001b[0;32m    112\u001b[0m area \u001b[39m=\u001b[39m mesh_area(vecs, faces)\n\u001b[0;32m    113\u001b[0m dists \u001b[39m=\u001b[39m pair_distance_mesh(vecs, faces, data)\n\u001b[1;32m--> 114\u001b[0m intensity \u001b[39m=\u001b[39m \u001b[39mlen\u001b[39m(dists) \u001b[39m/\u001b[39m area\n\u001b[0;32m    115\u001b[0m \u001b[39mfor\u001b[39;00m i \u001b[39min\u001b[39;00m \u001b[39mrange\u001b[39m(\u001b[39mlen\u001b[39m(radii)):\n\u001b[0;32m    116\u001b[0m     K[i] \u001b[39m=\u001b[39m np\u001b[39m.\u001b[39msum(dists \u001b[39m<\u001b[39m radii[i])\n",
      "File \u001b[1;32mc:\\Users\\muhan\\Documents\\Datalogi\\bachelor\\Bachelor-project\\Code\\ripleyK.py:100\u001b[0m, in \u001b[0;36mpair_distance_mesh\u001b[1;34m(vecs, faces, samples)\u001b[0m\n\u001b[0;32m     98\u001b[0m         tvec \u001b[39m=\u001b[39m faces[point_mesh[\u001b[39m1\u001b[39m][j]]\n\u001b[0;32m     99\u001b[0m         d \u001b[39m=\u001b[39m shortest_path(vecs, faces, vs, vt, svec, tvec)\n\u001b[1;32m--> 100\u001b[0m         dist\u001b[39m.\u001b[39mappend(d)\n\u001b[0;32m    101\u001b[0m \u001b[39mreturn\u001b[39;00m dist\n",
      "File \u001b[1;32mc:\\Users\\muhan\\Documents\\Datalogi\\bachelor\\Bachelor-project\\Code\\ripleyK.py:81\u001b[0m, in \u001b[0;36mshortest_path\u001b[1;34m(vecs, faces, vs, vt, svec, tvec)\u001b[0m\n\u001b[0;32m     79\u001b[0m dist_vecs \u001b[39m=\u001b[39m igl\u001b[39m.\u001b[39mexact_geodesic(vecs, faces, svec, tvec) \u001b[39m# distance between the closest vertices\u001b[39;00m\n\u001b[0;32m     80\u001b[0m dist \u001b[39m=\u001b[39m dist_vs_vecs \u001b[39m+\u001b[39m dist_vecs \u001b[39m+\u001b[39m dist_vt_vecs \u001b[39m# total distance\u001b[39;00m\n\u001b[1;32m---> 81\u001b[0m shortest_path \u001b[39m=\u001b[39m np\u001b[39m.\u001b[39;49mmin(dist)\n\u001b[0;32m     83\u001b[0m \u001b[39mreturn\u001b[39;00m shortest_path\n",
      "File \u001b[1;32m<__array_function__ internals>:177\u001b[0m, in \u001b[0;36mamin\u001b[1;34m(*args, **kwargs)\u001b[0m\n",
      "\u001b[1;31mKeyboardInterrupt\u001b[0m: "
     ]
    }
   ],
   "source": [
    "current_dir = os.getcwd()\n",
    "data_dir = os.path.join(current_dir, \"mito_data\")\n",
    "result_dir = os.path.join(current_dir, \"mito_result\")\n",
    "\n",
    "for file_name in os.listdir(data_dir):\n",
    "    if file_name.endswith(\".mat\"):\n",
    "        file_path = os.path.join(data_dir, file_name)\n",
    "        mito = readmitodata(file_path)\n",
    "        vertices = np.array(mito['vertices'], dtype=np.float64)\n",
    "        faces = np.array(mito['faces'], dtype=np.int32)\n",
    "        cj = np.array(mito['cristae_junction'], dtype=np.float64)\n",
    "        points = cj.T\n",
    "        rmax = math.sqrt(rk.mesh_area(vertices, faces) / 2)\n",
    "        radii = np.linspace(0, rmax, 50)\n",
    "        if cj.size:\n",
    "            print(file_name)\n",
    "            kt_mito = rk.ripleyK_mesh(vertices, faces, points, radii)\n",
    "            data = np.column_stack((radii, kt_mito))\n",
    "            result_path = os.path.join(result_dir, os.path.splitext(file_name)[0] + \".csv\")\n",
    "            np.savetxt(result_path, data, delimiter=\",\", header='radii,kt_mito')\n",
    "            print(file_name + \" result saved\")\n",
    "        else:\n",
    "            print(\"No cristae junctions found\")"
   ]
  }
 ],
 "metadata": {
  "kernelspec": {
   "display_name": "Python 3",
   "language": "python",
   "name": "python3"
  },
  "language_info": {
   "codemirror_mode": {
    "name": "ipython",
    "version": 3
   },
   "file_extension": ".py",
   "mimetype": "text/x-python",
   "name": "python",
   "nbconvert_exporter": "python",
   "pygments_lexer": "ipython3",
   "version": "3.10.11"
  },
  "orig_nbformat": 4
 },
 "nbformat": 4,
 "nbformat_minor": 2
}
