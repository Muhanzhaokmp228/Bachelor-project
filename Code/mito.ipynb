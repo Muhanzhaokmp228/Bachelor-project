{
 "cells": [
  {
   "cell_type": "code",
   "execution_count": 44,
   "metadata": {},
   "outputs": [],
   "source": [
    "import numpy as np\n",
    "import csv\n",
    "import igl\n",
    "import math\n",
    "import ripleyK as rk\n",
    "import ripleyKtest as rkt\n",
    "import matplotlib.pyplot as plt\n",
    "import mpl_toolkits.mplot3d\n",
    "from scipy.io import loadmat \n",
    "import os\n",
    "import geopandas as gpd\n",
    "import plotly.graph_objects as go"
   ]
  },
  {
   "cell_type": "code",
   "execution_count": 45,
   "metadata": {},
   "outputs": [],
   "source": [
    "def readmitodata(fname):\n",
    "    \"\"\"\n",
    "    Expect a filename of the form \"mito_data???.mat\" \n",
    "    where ??? is the mito number (left padded by 0 is necessary).\n",
    "    \n",
    "    argument:\n",
    "    fname -- string, filename of the mito data\n",
    "    \n",
    "    returns:\n",
    "    mito_dict -- dictionary, keys are the names of the variables in the matlab file\n",
    "    The keys are:\n",
    "    'mito' -- the mitochondrion binary shaoe (np.ndarray, has been padded with zeros)\n",
    "    'vertices' -- the vertices of the meshed mitochondrion (np.ndarray)  \n",
    "    'faces' -- the faces of the meshed mitochondrion (np.ndarray)\n",
    "    'cristae_junctions' -- the vertices of the cristae junctions (np.ndarray) or empty list if none\n",
    "    'min_coords' -- the minimum coordinates of the mitochondrion (np.ndarray) in the original volume    \n",
    "    'mito_number' -- the number of the mitochondrion (int) from the cc3d.component_labeling function,\n",
    "                        this is the same as the number in the filename\n",
    "    \n",
    "    \"\"\"\n",
    "    mito_dict = loadmat(fname)\n",
    "    # remove matlab meta data\n",
    "    del mito_dict['__header__']\n",
    "    del mito_dict['__version__']\n",
    "    del mito_dict['__globals__']\n",
    "    mito_dict['mito_number'] = int(mito_dict['mito_number'])\n",
    "    # inverted results in matlab....\n",
    "    mito_dict['vertices'], mito_dict['faces'] = mito_dict['faces'], mito_dict['vertices']\n",
    "    # count starts at 0\n",
    "    mito_dict['faces'] -= 1\n",
    "    return mito_dict"
   ]
  },
  {
   "cell_type": "code",
   "execution_count": 46,
   "metadata": {},
   "outputs": [],
   "source": [
    "current_dir = os.getcwd()\n",
    "folder_path = os.path.join(current_dir, \"mito_data\")\n",
    "path = os.path.join(folder_path, \"mito_data002.mat\")\n",
    "mito = readmitodata(path)  "
   ]
  },
  {
   "cell_type": "code",
   "execution_count": 47,
   "metadata": {},
   "outputs": [
    {
     "name": "stdout",
     "output_type": "stream",
     "text": [
      "dict_keys(['cristae_junction', 'faces', 'min_coords', 'mito', 'mito_number', 'vertices'])\n",
      "(3, 6)\n",
      "(5990, 3)\n",
      "(11976, 3)\n",
      "1.505 44.495\n",
      "0 5989\n"
     ]
    }
   ],
   "source": [
    "print(mito.keys())\n",
    "vertices = np.array(mito['vertices'], dtype=np.float64)\n",
    "faces = np.array(mito['faces'], dtype=np.int32)\n",
    "cj = np.array(mito['cristae_junction'], dtype=np.float64)\n",
    "\n",
    "points = cj.T\n",
    "print(cj.shape)\n",
    "print(vertices.shape)\n",
    "print(faces.shape)\n",
    "\n",
    "print(vertices.min(), vertices.max())\n",
    "print(faces.min(), faces.max())"
   ]
  },
  {
   "cell_type": "code",
   "execution_count": 48,
   "metadata": {},
   "outputs": [],
   "source": [
    "#Projecting the point on the mesh\n",
    "def project_point_to_mesh(point, vecs):\n",
    "    u = vecs[1] - vecs[0]\n",
    "    v = vecs[2] - vecs[0]\n",
    "    n = np.cross(u, v)\n",
    "    w = point - vecs[0]\n",
    "\n",
    "    gamma = np.dot(np.cross(u, w), n) / np.dot(n, n)\n",
    "    beta = np.dot(np.cross(w, v), n) / np.dot(n, n)\n",
    "    alpha = 1 - gamma - beta\n",
    "\n",
    "    y = alpha * vecs[0] + beta * vecs[1] + gamma * vecs[2]\n",
    "    return y"
   ]
  },
  {
   "cell_type": "code",
   "execution_count": 49,
   "metadata": {},
   "outputs": [],
   "source": [
    "# Calculating the shortest path between two points on the mesh\n",
    "def shortest_path(vecs, faces, vs, vt, svec ,tvec):\n",
    "\n",
    "    shortest_path = math.inf\n",
    "\n",
    "    # # get the indices and coordinates of the closest vertices to the source and target points\n",
    "    # ds = igl.point_mesh_squared_distance(vs, vecs, faces)\n",
    "    # # ds = igl.signed_distance(vs, vecs, faces)\n",
    "    # svec = faces[ds[1]]\n",
    "    svec_coords = vecs[svec] # coordinate for the 3 closest vertices to the source\n",
    "    \n",
    "    # dt = igl.point_mesh_squared_distance(vt, vecs, faces)\n",
    "    # #dt = igl.signed_distance(vt, vecs, faces)\n",
    "    # tvec = faces[dt[1]]\n",
    "    tvec_coords = vecs[tvec] # coordinate for the 3 closest vertices to the target\n",
    "\n",
    "    # find the shortest path between the source and target points\n",
    "    vs = project_point_to_mesh(vs, svec_coords).astype(float) # project the source point on the mesh\n",
    "    # vs = projToMesh(vs, svec_coords).astype(float)\n",
    "    dist_vs_vecs = np.linalg.norm(vs-svec_coords, axis=1) # distance between the source point and the closest vertices\n",
    "    # print(dist_vs_vecs)\n",
    "    vt = project_point_to_mesh(vt, tvec_coords).astype(float) # project the target point on the mesh\n",
    "    # vt = projToMesh(vt, tvec_coords).astype(float)\n",
    "    dist_vt_vecs = np.linalg.norm(vt-tvec_coords, axis=1) # distance between the target point and the closest vertices\n",
    "    # print(dist_vt_vecs)\n",
    "    dist_vecs = igl.exact_geodesic(vecs, faces, svec, tvec) # distance between the closest vertices\n",
    "    dist = dist_vs_vecs + dist_vecs + dist_vt_vecs # total distance\n",
    "    shortest_path = np.min(dist)\n",
    "    \n",
    "    return shortest_path\n",
    "\n",
    "# Calculating the distance between all pairs of points on the mesh\n",
    "def pair_distance_mesh(vecs, faces, samples):\n",
    "    npts = np.shape(samples)[0]\n",
    "    dist = []\n",
    "    point_mesh = igl.point_mesh_squared_distance(samples, vecs, faces)\n",
    "    for i in range(npts):\n",
    "        for j in range(i+1, npts):\n",
    "            # reshape to (1,3) array\n",
    "            vs = samples[i].reshape(1,3)\n",
    "            vt = samples[j].reshape(1,3)\n",
    "            svec = faces[point_mesh[1][i]]\n",
    "            tvec = faces[point_mesh[1][j]]\n",
    "            d = shortest_path(vecs, faces, vs, vt, svec, tvec)\n",
    "            dist.append(d)\n",
    "    return dist"
   ]
  },
  {
   "cell_type": "code",
   "execution_count": 50,
   "metadata": {},
   "outputs": [
    {
     "name": "stdout",
     "output_type": "stream",
     "text": [
      "[13.224323289356095, 7.619811514039917, 16.69030628266761, 19.413198037878267, 30.143048100812173, 18.63702237606158, 14.869775998297785, 15.036191052804428, 31.019748639112898, 14.584770635155925, 15.0120874774041, 27.011036668732302, 2.932354335638438, 17.4048281823385, 18.54408908738603]\n",
      "[13.224323289356095, 7.619811514039914, 16.69030628266761, 19.413198037878264, 30.143048100812194, 18.637022376061577, 14.869775998297785, 15.036191052804424, 31.01974863911292, 14.584770635155923, 15.012087477404094, 27.01103666873232, 2.932354335638435, 17.40482818233852, 18.544089087386048]\n"
     ]
    }
   ],
   "source": [
    "dist1 = pair_distance_mesh(vertices, faces, points)\n",
    "print(dist1)\n",
    "dist2 = rk.pair_distance_mesh(vertices, faces, points)\n",
    "print(dist2)"
   ]
  },
  {
   "cell_type": "code",
   "execution_count": 40,
   "metadata": {},
   "outputs": [],
   "source": [
    "# points = cj.T\n",
    "\n",
    "# x, y, z = vertices.T\n",
    "# i, j, k = faces.T\n",
    "\n",
    "# mesh = go.Mesh3d(x=x, y=y, z=z, i=i, j=j, k=k, color='lightpink', opacity=0.50)\n",
    "# fig = go.Figure(data=[mesh])\n",
    "# fig.add_trace(go.Scatter3d(x=points[:,0], y=points[:,1], z=points[:,2], mode='markers', marker=dict(size=10, color='blue')))\n",
    "# fig.show()"
   ]
  },
  {
   "cell_type": "code",
   "execution_count": 41,
   "metadata": {},
   "outputs": [],
   "source": [
    "#  Computes signed distance to a mesh\n",
    "\n",
    "#  Inputs:\n",
    "#    P  #P by 3 list of query point positions\n",
    "#    V  #V by 3 list of vertex positions\n",
    "#    F  #F by ss list of triangle indices, ss should be 3 unless sign_type ==\n",
    "#      SIGNED_DISTANCE_TYPE_UNSIGNED\n",
    "#    sign_type  method for computing distance _sign_ S\n",
    "#    lower_bound  lower bound of distances needed {std::numeric_limits::min}\n",
    "#    upper_bound  lower bound of distances needed {std::numeric_limits::max}\n",
    "#  Outputs:\n",
    "#    S  #P list of smallest signed distances\n",
    "#    I  #P list of facet indices corresponding to smallest distances\n",
    "#    C  #P by 3 list of closest points\n",
    "#    N  #P by 3 list of closest normals (only set if\n",
    "#      sign_type=SIGNED_DISTANCE_TYPE_PSEUDONORMAL)\n",
    "\n",
    "# if points != []:\n",
    "    # signed_dist = igl.signed_distance(points, vertices, faces)\n",
    "    # print(signed_dist)"
   ]
  },
  {
   "cell_type": "code",
   "execution_count": 43,
   "metadata": {},
   "outputs": [
    {
     "data": {
      "image/png": "[encoded data removed]",
      "text/plain": [
       "<Figure size 640x480 with 1 Axes>"
      ]
     },
     "metadata": {},
     "output_type": "display_data"
    }
   ],
   "source": [
    "rmax = math.sqrt(rk.mesh_area(vertices, faces) / 2)\n",
    "radii = np.linspace(0, rmax, 50)\n",
    "\n",
    "if cj.size:\n",
    "    kt_mito = rk.ripleyK_mesh(vertices, faces, points, radii)\n",
    "    # kt_mito = rkt.ripleyK_mesh(vertices, faces, points, radii)\n",
    "    data = np.column_stack((radii, kt_mito))\n",
    "    np.savetxt(\"kt_mito.csv\", data, delimiter=\",\", header='radii,kt_mito')\n",
    "else:\n",
    "    print(\"No cristae junctions found\")\n",
    "\n",
    "plt.plot(radii, kt_mito, label='Whale_mesh')\n",
    "plt.xlabel('Radius')\n",
    "plt.ylabel('K')\n",
    "plt.legend()\n",
    "plt.show()\n",
    "\n"
   ]
  },
  {
   "cell_type": "code",
   "execution_count": null,
   "metadata": {},
   "outputs": [
    {
     "name": "stdout",
     "output_type": "stream",
     "text": [
      "No cristae junctions found\n",
      "mito_data283.mat\n",
      "mito_data283.mat result saved\n",
      "No cristae junctions found\n",
      "No cristae junctions found\n",
      "mito_data064.mat\n",
      "mito_data064.mat result saved\n",
      "mito_data464.mat\n"
     ]
    }
   ],
   "source": [
    "current_dir = os.getcwd()\n",
    "data_dir = os.path.join(current_dir, \"mito_data\")\n",
    "result_dir = os.path.join(current_dir, \"mito_result\")\n",
    "\n",
    "for file_name in os.listdir(data_dir):\n",
    "    if file_name.endswith(\".mat\"):\n",
    "        file_path = os.path.join(data_dir, file_name)\n",
    "        mito = readmitodata(file_path)\n",
    "        vertices = np.array(mito['vertices'], dtype=np.float64)\n",
    "        faces = np.array(mito['faces'], dtype=np.int32)\n",
    "        cj = np.array(mito['cristae_junction'], dtype=np.float64)\n",
    "        points = cj.T\n",
    "        rmax = math.sqrt(rk.mesh_area(vertices, faces) / 2)\n",
    "        radii = np.linspace(0, rmax, 50)\n",
    "        if cj.size:\n",
    "            print(file_name)\n",
    "            kt_mito = rk.ripleyK_mesh(vertices, faces, points, radii)\n",
    "            data = np.column_stack((radii, kt_mito))\n",
    "            result_path = os.path.join(result_dir, os.path.splitext(file_name)[0] + \".csv\")\n",
    "            np.savetxt(result_path, data, delimiter=\",\", header='radii,kt_mito')\n",
    "            print(file_name + \" result saved\")\n",
    "        else:\n",
    "            print(\"No cristae junctions found\")"
   ]
  }
 ],
 "metadata": {
  "kernelspec": {
   "display_name": "Python 3",
   "language": "python",
   "name": "python3"
  },
  "language_info": {
   "codemirror_mode": {
    "name": "ipython",
    "version": 3
   },
   "file_extension": ".py",
   "mimetype": "text/x-python",
   "name": "python",
   "nbconvert_exporter": "python",
   "pygments_lexer": "ipython3",
   "version": "3.10.11"
  },
  "orig_nbformat": 4
 },
 "nbformat": 4,
 "nbformat_minor": 2
}
