{
 "cells": [
  {
   "cell_type": "code",
   "execution_count": 3,
   "metadata": {},
   "outputs": [],
   "source": [
    "from __future__ import print_function, division\n",
    "import numpy as np\n",
    "import matplotlib.pyplot as plt\n",
    "from mpl_toolkits.mplot3d import Axes3D\n",
    "from matplotlib import cm, colors\n",
    "%matplotlib inline"
   ]
  },
  {
   "cell_type": "markdown",
   "metadata": {},
   "source": [
    "# Watson Distribution"
   ]
  },
  {
   "cell_type": "code",
   "execution_count": 4,
   "metadata": {},
   "outputs": [],
   "source": [
    "from watson_distribution import DimrothWatson"
   ]
  },
  {
   "cell_type": "markdown",
   "metadata": {},
   "source": [
    "## Probabiulity Distribution Function (PDF)"
   ]
  },
  {
   "cell_type": "markdown",
   "metadata": {},
   "source": [
    "In this section I demonstrate the effect of the shape parameter, k, on the pdf.  "
   ]
  },
  {
   "cell_type": "code",
   "execution_count": null,
   "metadata": {},
   "outputs": [],
   "source": [
    "rv = DimrothWatson()\n",
    "\n",
    "# sample polar coordimnates\n",
    "theta = np.linspace(0, np.pi, 25)\n",
    "phi = np.linspace(0, 2*np.pi, 25)\n",
    "phi, theta = np.meshgrid(phi, theta)\n",
    "\n",
    "# cartesian coordinates of the unit sphere\n",
    "r = 1.0\n",
    "x = r * np.sin(theta) * np.cos(phi)\n",
    "y = r * np.sin(theta) * np.sin(phi)\n",
    "z = r * np.cos(theta)\n",
    "\n",
    "# set up a figure\n",
    "fig = plt.figure(figsize=(15.0,4.5))\n",
    "\n",
    "# calculate the pdf for given k<0\n",
    "fcolors = rv.pdf(np.cos(theta), k=-3)\n",
    "ax = fig.add_subplot(1, 3, 1, projection='3d')\n",
    "ax.set_title(r'$k<0$', fontsize=15)\n",
    "ax.plot_surface(x, y, z,  rstride=1, cstride=1,\n",
    "                facecolors=cm.viridis(fcolors))\n",
    "ax.set_axis_off()\n",
    "\n",
    "# calculate the pdf for given k=0\n",
    "fcolors = rv.pdf(np.cos(theta), k=0)\n",
    "ax = fig.add_subplot(1, 3, 2, projection='3d')\n",
    "ax.set_title(r'$k=0$', fontsize=15)\n",
    "ax.plot_surface(x, y, z,  rstride=1, cstride=1,\n",
    "                facecolors=cm.viridis(fcolors))\n",
    "ax.set_axis_off()\n",
    "\n",
    "# calculate the pdf for given k>0\n",
    "fcolors = rv.pdf(np.cos(theta), k=3)\n",
    "ax = fig.add_subplot(1, 3, 3, projection='3d')\n",
    "ax.set_title(r'$k>0$', fontsize=15)\n",
    "ax.plot_surface(x, y, z,rstride=1, cstride=1,\n",
    "                facecolors=cm.viridis(fcolors))\n",
    "ax.set_axis_off()\n",
    "\n",
    "plt.show()\n",
    "\n",
    "fig.savefig('./pdf_plot.png', dpi=250)"
   ]
  },
  {
   "cell_type": "markdown",
   "metadata": {},
   "source": [
    "## Sampling"
   ]
  },
  {
   "cell_type": "markdown",
   "metadata": {},
   "source": [
    "Here I show how to sample from a Watson distribution with different values for k."
   ]
  },
  {
   "cell_type": "code",
   "execution_count": 6,
   "metadata": {},
   "outputs": [
    {
     "ename": "TypeError",
     "evalue": "DimrothWatson._rvs() got an unexpected keyword argument 'random_state'",
     "output_type": "error",
     "traceback": [
      "\u001b[1;31m---------------------------------------------------------------------------\u001b[0m",
      "\u001b[1;31mTypeError\u001b[0m                                 Traceback (most recent call last)",
      "Cell \u001b[1;32mIn[6], line 10\u001b[0m\n\u001b[0;32m      7\u001b[0m rv\u001b[39m.\u001b[39mrandom_state \u001b[39m=\u001b[39m \u001b[39m111\u001b[39m\n\u001b[0;32m      9\u001b[0m \u001b[39m# sample polar coordimnates\u001b[39;00m\n\u001b[1;32m---> 10\u001b[0m theta \u001b[39m=\u001b[39m np\u001b[39m.\u001b[39marccos(rv\u001b[39m.\u001b[39;49mrvs(k\u001b[39m=\u001b[39;49m\u001b[39m10\u001b[39;49m, size\u001b[39m=\u001b[39;49m\u001b[39m500\u001b[39;49m))\n\u001b[0;32m     11\u001b[0m phi \u001b[39m=\u001b[39m np\u001b[39m.\u001b[39mrandom\u001b[39m.\u001b[39mrandom(size\u001b[39m=\u001b[39m\u001b[39m500\u001b[39m)\u001b[39m*\u001b[39mnp\u001b[39m.\u001b[39mpi\u001b[39m*\u001b[39m\u001b[39m2\u001b[39m\n\u001b[0;32m     13\u001b[0m \u001b[39m# cartesian coordinates of the unit sphere\u001b[39;00m\n",
      "File \u001b[1;32m~\\AppData\\Local\\Packages\\PythonSoftwareFoundation.Python.3.10_qbz5n2kfra8p0\\LocalCache\\local-packages\\Python310\\site-packages\\scipy\\stats\\_distn_infrastructure.py:1048\u001b[0m, in \u001b[0;36mrv_generic.rvs\u001b[1;34m(self, *args, **kwds)\u001b[0m\n\u001b[0;32m   1045\u001b[0m \u001b[39melse\u001b[39;00m:\n\u001b[0;32m   1046\u001b[0m     random_state \u001b[39m=\u001b[39m \u001b[39mself\u001b[39m\u001b[39m.\u001b[39m_random_state\n\u001b[1;32m-> 1048\u001b[0m vals \u001b[39m=\u001b[39m \u001b[39mself\u001b[39;49m\u001b[39m.\u001b[39;49m_rvs(\u001b[39m*\u001b[39;49margs, size\u001b[39m=\u001b[39;49msize, random_state\u001b[39m=\u001b[39;49mrandom_state)\n\u001b[0;32m   1050\u001b[0m vals \u001b[39m=\u001b[39m vals \u001b[39m*\u001b[39m scale \u001b[39m+\u001b[39m loc\n\u001b[0;32m   1052\u001b[0m \u001b[39m# do not forget to restore the _random_state\u001b[39;00m\n",
      "\u001b[1;31mTypeError\u001b[0m: DimrothWatson._rvs() got an unexpected keyword argument 'random_state'"
     ]
    },
    {
     "data": {
      "text/plain": [
       "<Figure size 1500x450 with 0 Axes>"
      ]
     },
     "metadata": {},
     "output_type": "display_data"
    }
   ],
   "source": [
    "# np.random.seed(111)\n",
    "\n",
    "rv = DimrothWatson()\n",
    "\n",
    "# set up a figure\n",
    "fig = plt.figure(figsize=(15.0,4.5))\n",
    "\n",
    "# sample polar coordimnates\n",
    "theta = np.arccos(rv.rvs(k=10, size=500, random_state=None))\n",
    "phi = np.random.random(size=500)*np.pi*2\n",
    "\n",
    "# cartesian coordinates of the unit sphere\n",
    "r = 1.0\n",
    "x = r * np.sin(theta) * np.cos(phi)\n",
    "y = r * np.sin(theta) * np.sin(phi)\n",
    "z = r * np.cos(theta)\n",
    "\n",
    "ax = fig.add_subplot(1, 3, 1, projection='3d')\n",
    "ax.set_title(r'$k<0$', fontsize=15)\n",
    "ax.scatter(x, y, z)\n",
    "ax.set_axis_off()\n",
    "ax.set_xlim([-1,1])\n",
    "ax.set_ylim([-1,1])\n",
    "ax.set_zlim([-1,1])\n",
    "\n",
    "# sample polar coordimnates\n",
    "theta = np.arccos(rv.rvs(k=0, size=500))\n",
    "phi = np.random.random(size=500)*np.pi*2\n",
    "\n",
    "# cartesian coordinates of the unit sphere\n",
    "r = 1.0\n",
    "x = r * np.sin(theta) * np.cos(phi)\n",
    "y = r * np.sin(theta) * np.sin(phi)\n",
    "z = r * np.cos(theta)\n",
    "\n",
    "ax = fig.add_subplot(1, 3, 2, projection='3d')\n",
    "ax.set_title(r'$k=0$', fontsize=15)\n",
    "ax.scatter(x, y, z)\n",
    "ax.set_axis_off()\n",
    "ax.set_xlim([-1,1])\n",
    "ax.set_ylim([-1,1])\n",
    "ax.set_zlim([-1,1])\n",
    "\n",
    "# sample polar coordimnates\n",
    "theta = np.arccos(rv.rvs(k=10, size=500))\n",
    "phi = np.random.random(size=500)*np.pi*2\n",
    "\n",
    "# cartesian coordinates of the unit sphere\n",
    "r = 1.0\n",
    "x = r * np.sin(theta) * np.cos(phi)\n",
    "y = r * np.sin(theta) * np.sin(phi)\n",
    "z = r * np.cos(theta)\n",
    "\n",
    "ax = fig.add_subplot(1, 3, 3, projection='3d')\n",
    "ax.set_title(r'$k>0$', fontsize=15)\n",
    "ax.scatter(x, y, z)\n",
    "ax.set_axis_off()\n",
    "ax.set_xlim([-1,1])\n",
    "ax.set_ylim([-1,1])\n",
    "ax.set_zlim([-1,1])\n",
    "\n",
    "plt.show()"
   ]
  },
  {
   "cell_type": "markdown",
   "metadata": {},
   "source": [
    "## Parameter Fitting"
   ]
  },
  {
   "cell_type": "markdown",
   "metadata": {},
   "source": [
    "In this section, I show how to use the built in scipy fitting feature to get a maximum liklihood estimate for the shape parameter."
   ]
  },
  {
   "cell_type": "code",
   "execution_count": null,
   "metadata": {},
   "outputs": [],
   "source": [
    "rv = DimrothWatson()\n",
    "\n",
    "cos_theta = rv.rvs(k=-5, size=500)\n",
    "estimate_for_k, loc, scale = rv.fit(cos_theta, floc=0, fscale=1)\n",
    "print(\"Estimate for a k={0} Watson distributoion, sampled using {1} points: {2}\".format(-5,500,estimate_for_k))\n",
    "\n",
    "cos_theta = rv.rvs(k=0, size=500)\n",
    "estimate_for_k, loc, scale = rv.fit(cos_theta, floc=0, fscale=1)\n",
    "print(\"Estimate for a k={0} Watson distributoion, sampled using {1} points: {2}\".format(0,500,estimate_for_k))\n",
    "\n",
    "cos_theta = rv.rvs(k=5, size=500)\n",
    "estimate_for_k, loc, scale = rv.fit(cos_theta, floc=0, fscale=1)\n",
    "print(\"Estimate for a k={0} Watson distributoion, sampled using {1} points: {2}\".format(5,500,estimate_for_k))"
   ]
  }
 ],
 "metadata": {
  "kernelspec": {
   "display_name": "Python 3 (ipykernel)",
   "language": "python",
   "name": "python3"
  },
  "language_info": {
   "codemirror_mode": {
    "name": "ipython",
    "version": 3
   },
   "file_extension": ".py",
   "mimetype": "text/x-python",
   "name": "python",
   "nbconvert_exporter": "python",
   "pygments_lexer": "ipython3",
   "version": "3.10.10"
  }
 },
 "nbformat": 4,
 "nbformat_minor": 2
}
